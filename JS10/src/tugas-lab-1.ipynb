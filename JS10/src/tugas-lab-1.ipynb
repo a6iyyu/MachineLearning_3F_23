{
 "cells": [
  {
   "cell_type": "markdown",
   "id": "9b7e9f95",
   "metadata": {},
   "source": [
    "# **🚌 Tugas Lab 1**\n",
    "\n",
    "1. Buatlah model klasifikasi dengan menggunakan kNN untuk mengklasifikasikan jenis suara `male` dan `female` pada dataset `voice.csv`.\n",
    "\n",
    "2. Lakukan percobaan untuk mengetahui fitur-fitur yang paling optimal untuk digunakan. Fitur apa saja yang Anda gunakan untuk mendapatkan hasil terbaik?\n",
    "\n",
    "3. Berdasarkan fitur yang telah Anda pilih pada soal nomor 2, berapa nilai `k` yang terbaik? Lampirkan grafika analisis dan alasan Anda."
   ]
  },
  {
   "cell_type": "code",
   "execution_count": null,
   "id": "42071e26",
   "metadata": {
    "vscode": {
     "languageId": "plaintext"
    }
   },
   "outputs": [],
   "source": [
    "from sklearn.metrics import accuracy_score, classification_report\n",
    "from sklearn.model_selection import train_test_split\n",
    "from sklearn.neighbors import KNeighborsClassifier\n",
    "from sklearn.preprocessing import StandardScaler, LabelEncoder\n",
    "import matplotlib.pyplot as plt\n",
    "import numpy as np\n",
    "import pandas as pd"
   ]
  },
  {
   "cell_type": "code",
   "execution_count": null,
   "id": "c465813a",
   "metadata": {
    "vscode": {
     "languageId": "plaintext"
    }
   },
   "outputs": [],
   "source": [
    "# --- 0. Pemuatan dan Persiapan Data ---\n",
    "try:\n",
    "    df = pd.read_csv('voice.csv')\n",
    "except FileNotFoundError:\n",
    "    print(\"Error: File 'voice.csv' tidak ditemukan.\")\n",
    "    print(\"Pastikan file tersebut berada di direktori yang sama dengan skrip ini.\")\n",
    "\n",
    "print(\"--- Informasi Data Awal ---\")\n",
    "print(df.info())\n",
    "print(\"\\nContoh Data:\")\n",
    "print(df.head())"
   ]
  },
  {
   "cell_type": "code",
   "execution_count": null,
   "id": "e26f608f",
   "metadata": {
    "vscode": {
     "languageId": "plaintext"
    }
   },
   "outputs": [],
   "source": [
    "# Konversi label 'male'/'female' menjadi numerik (1/0)\n",
    "# Ini penting untuk analisis korelasi\n",
    "le = LabelEncoder()\n",
    "df['label_encoded'] = le.fit_transform(df['label'])\n",
    "# le.classes_ akan menunjukkan ['female', 'male'], artinya female=0, male=1\n",
    "\n",
    "# Pisahkan fitur (X) dan target (y)\n",
    "# Kita gunakan label_encoded sebagai target\n",
    "X = df.drop(columns=['label', 'label_encoded'])\n",
    "y = df['label_encoded']"
   ]
  },
  {
   "cell_type": "code",
   "execution_count": null,
   "id": "4334bbae",
   "metadata": {
    "vscode": {
     "languageId": "plaintext"
    }
   },
   "outputs": [],
   "source": [
    "# --- TUGAS 1: Model Klasifikasi kNN (Baseline) ---\n",
    "print(\"\\n--- TUGAS 1: Model Baseline (Semua Fitur) ---\")\n",
    "\n",
    "# Bagi data menjadi training and testing\n",
    "# stratify=y memastikan proporsi male/female sama di train dan test set\n",
    "X_train, X_test, y_train, y_test = train_test_split(\n",
    "    X, y, test_size=0.2, random_state=42, stratify=y\n",
    ")\n",
    "\n",
    "# kNN sensitif terhadap skala fitur, jadi kita perlu StandardScaler\n",
    "scaler_all = StandardScaler()\n",
    "X_train_scaled = scaler_all.fit_transform(X_train)\n",
    "X_test_scaled = scaler_all.transform(X_test)\n",
    "\n",
    "# Gunakan k=5 sebagai baseline awal\n",
    "knn_baseline = KNeighborsClassifier(n_neighbors=5)\n",
    "knn_baseline.fit(X_train_scaled, y_train)\n",
    "y_pred_baseline = knn_baseline.predict(X_test_scaled)\n",
    "acc_baseline = accuracy_score(y_test, y_pred_baseline)\n",
    "\n",
    "print(f\"Akurasi Model Baseline (Semua Fitur, k=5): {acc_baseline:.4f}\")\n",
    "print(\"Laporan Klasifikasi Baseline:\")\n",
    "# target_names=['female', 'male'] didapat dari le.classes_\n",
    "print(classification_report(y_test, y_pred_baseline, target_names=['female', 'male']))"
   ]
  },
  {
   "cell_type": "code",
   "execution_count": null,
   "id": "9bc58464",
   "metadata": {
    "vscode": {
     "languageId": "plaintext"
    }
   },
   "outputs": [],
   "source": [
    "# --- TUGAS 2: Analisis dan Pemilihan Fitur Optimal ---\n",
    "print(\"\\n--- TUGAS 2: Analisis Fitur Optimal ---\")\n",
    "\n",
    "# Hitung korelasi absolut antara setiap fitur dengan target ('label_encoded')\n",
    "corr_matrix = df.drop(columns=['label']).corr()\n",
    "corr_target = corr_matrix['label_encoded'].abs().sort_values(ascending=False)\n",
    "\n",
    "print(\"Korelasi Absolut Fitur dengan Target (terurut):\")\n",
    "# Tampilkan semua fitur, kecuali 'label_encoded' itu sendiri\n",
    "print(corr_target[1:])\n",
    "\n",
    "# Mari kita pilih N fitur teratas.\n",
    "# Berdasarkan output di atas, 'meanfun' (frekuensi fundamental rata-rata)\n",
    "# dan 'IQR' (Interquartile Range) biasanya sangat kuat.\n",
    "\n",
    "# Kita akan coba gunakan 4 fitur teratas\n",
    "# Skrip ini memilihnya secara dinamis\n",
    "N_FITUR_TERBAIK = 4\n",
    "optimal_features = list(corr_target[1:N_FITUR_TERBAIK + 1].index)\n",
    "\n",
    "print(f\"\\nFitur yang dipilih sebagai 'optimal' ({N_FITUR_TERBAIK} teratas): {optimal_features}\")\n",
    "\n",
    "# Buat dataset baru hanya dengan fitur optimal\n",
    "X_opt = df[optimal_features]\n",
    "\n",
    "# Lakukan train/test split lagi untuk data optimal ini\n",
    "X_train_opt, X_test_opt, y_train_opt, y_test_opt = train_test_split(\n",
    "    X_opt, y, test_size=0.2, random_state=42, stratify=y\n",
    ")\n",
    "\n",
    "# Scaling dataset optimal\n",
    "scaler_opt = StandardScaler()\n",
    "X_train_opt_scaled = scaler_opt.fit_transform(X_train_opt)\n",
    "X_test_opt_scaled = scaler_opt.transform(X_test_opt)\n",
    "\n",
    "# Uji model k=5 dengan fitur optimal\n",
    "knn_opt_k5 = KNeighborsClassifier(n_neighbors=5)\n",
    "knn_opt_k5.fit(X_train_opt_scaled, y_train_opt)\n",
    "y_pred_opt_k5 = knn_opt_k5.predict(X_test_opt_scaled)\n",
    "acc_opt_k5 = accuracy_score(y_test_opt, y_pred_opt_k5)\n",
    "\n",
    "print(f\"Akurasi dengan {N_FITUR_TERBAIK} Fitur Optimal (k=5): {acc_opt_k5:.4f}\")\n",
    "print(f\"\\nPerbandingan: Baseline ({acc_baseline:.4f}) vs Optimal ({acc_opt_k5:.4f})\")\n",
    "print(\"Hasil ini menunjukkan bahwa dengan menggunakan lebih sedikit fitur (yang paling berkorelasi),\")\n",
    "print(\"kita bisa mendapatkan akurasi yang sebanding atau bahkan lebih baik,\")\n",
    "print(\"membuat model lebih efisien.\")"
   ]
  },
  {
   "cell_type": "code",
   "execution_count": null,
   "id": "23f3d8fe",
   "metadata": {
    "vscode": {
     "languageId": "plaintext"
    }
   },
   "outputs": [],
   "source": [
    "# --- TUGAS 3: Mencari Nilai k Terbaik (dengan Fitur Optimal) ---\n",
    "print(\"\\n--- TUGAS 3: Analisis Nilai k Terbaik ---\")\n",
    "\n",
    "k_range = range(1, 31) # Kita akan uji k dari 1 sampai 30\n",
    "accuracies = []\n",
    "\n",
    "# Loop untuk menguji setiap nilai k\n",
    "for k in k_range:\n",
    "    knn = KNeighborsClassifier(n_neighbors=k)\n",
    "    knn.fit(X_train_opt_scaled, y_train_opt)\n",
    "    y_pred = knn.predict(X_test_opt_scaled)\n",
    "    accuracies.append(accuracy_score(y_test_opt, y_pred))\n",
    "\n",
    "# Cari k dengan akurasi tertinggi\n",
    "best_k = k_range[np.argmax(accuracies)]\n",
    "best_acc = np.max(accuracies)\n",
    "\n",
    "print(f\"\\nNilai k terbaik ditemukan: k = {best_k}\")\n",
    "print(f\"Akurasi tertinggi yang dicapai: {best_acc:.4f}\")\n",
    "\n",
    "print(\"\\nAlasan Pemilihan:\")\n",
    "print(f\"Nilai k={best_k} memberikan akurasi tertinggi pada data tes.\")\n",
    "print(\"Dari grafik (akan ditampilkan), kita mencari nilai 'k' yang memberikan\")\n",
    "print(\"akurasi tinggi namun juga stabil (tidak terlalu 'tajam' puncaknya).\")\n",
    "print(\"Nilai k yang terlalu kecil (misal k=1) sangat rentan terhadap noise (overfitting).\")\n",
    "print(\"Nilai k yang terlalu besar cenderung 'terlalu halus' (oversmoothing) dan bisa\")\n",
    "print(\"kehilangan detail-detail penting.\")\n",
    "print(f\"Nilai k={best_k} (atau nilai di sekitarnya yang juga tinggi) adalah\")\n",
    "print(\"pilihan yang baik untuk keseimbangan ini.\")"
   ]
  },
  {
   "cell_type": "code",
   "execution_count": null,
   "id": "18fa35b1",
   "metadata": {
    "vscode": {
     "languageId": "plaintext"
    }
   },
   "outputs": [],
   "source": [
    "# --- TUGAS 3 (Lanjutan): Grafika Analisis ---\n",
    "plt.figure(figsize=(12, 7))\n",
    "plt.plot(k_range, accuracies, color='blue', linestyle='dashed', marker='o', markerfacecolor='red', markersize=8)\n",
    "plt.title('Analisis Nilai k: Akurasi vs. Nilai k\\n(Menggunakan Fitur Optimal)')\n",
    "plt.xlabel('Nilai k')\n",
    "plt.ylabel('Akurasi')\n",
    "plt.xticks(range(1, 31, 2)) # Tampilkan label k setiap 2 angka\n",
    "plt.grid(True, linestyle='--', alpha=0.6)\n",
    "\n",
    "# Tandai nilai k terbaik\n",
    "plt.axvline(x=best_k, color='green', linestyle=':', label=f'k Terbaik = {best_k} (Akurasi: {best_acc:.4f})')\n",
    "plt.legend()\n",
    "\n",
    "print(\"\\nMenampilkan grafik analisis nilai k...\")\n",
    "# Simpan grafik ke file\n",
    "try:\n",
    "    plt.savefig('analisis_knn_k.png')\n",
    "    print(\"Grafik juga disimpan sebagai 'analisis_knn_k.png'\")\n",
    "except Exception as e:\n",
    "    print(f\"Tidak dapat menyimpan grafik: {e}\")\n",
    "\n",
    "# Tampilkan grafik\n",
    "plt.show()"
   ]
  }
 ],
 "metadata": {
  "language_info": {
   "name": "python"
  }
 },
 "nbformat": 4,
 "nbformat_minor": 5
}
