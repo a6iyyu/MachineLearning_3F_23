{
 "cells": [
  {
   "cell_type": "markdown",
   "id": "458cb445",
   "metadata": {},
   "source": [
    "# **🚐 Lab 3**\n",
    "\n",
    "Klasifikasi Naive Bayes dengan Data Multimoda."
   ]
  },
  {
   "cell_type": "markdown",
   "id": "f9621777",
   "metadata": {},
   "source": [
    "### Langkah 1 - _Load_ Data\n",
    "\n",
    "Pada tahap ini kita akan _loading_ data ke dalam data frame dan melakukan inspeksi sederhana untuk memastikan apakah kita perlu proses pra pengolahan data sebelum melakukan ekstraksi fitur dan permodelan."
   ]
  },
  {
   "cell_type": "code",
   "execution_count": null,
   "id": "c432421f",
   "metadata": {
    "vscode": {
     "languageId": "plaintext"
    }
   },
   "outputs": [],
   "source": [
    "from sklearn.feature_extraction.text import CountVectorizer\n",
    "from sklearn.metrics import accuracy_score\n",
    "from sklearn.model_selection import train_test_split\n",
    "from sklearn.naive_bayes import MultinomialNB\n",
    "import numpy as np\n",
    "import pandas as pd"
   ]
  },
  {
   "cell_type": "code",
   "execution_count": null,
   "id": "e068f5a2",
   "metadata": {
    "vscode": {
     "languageId": "plaintext"
    }
   },
   "outputs": [],
   "source": [
    "try:\n",
    "    data = pd.read_csv('spam.csv', encoding='latin-1')\n",
    "    print(\"File berhasil dibaca. Ini 5 baris pertamanya:\")\n",
    "    print(data.head())\n",
    "\n",
    "except FileNotFoundError:\n",
    "    print(\"Error: File 'iris.csv' tidak ditemukan.\")\n",
    "    \n",
    "except pd.errors.EmptyDataError:\n",
    "    print(\"Error: File 'iris.csv' ditemukan, tapi isinya kosong.\")\n",
    "    \n",
    "except Exception as e:\n",
    "    print(f\"Terjadi error saat membaca file: {e}\")"
   ]
  },
  {
   "cell_type": "markdown",
   "id": "fb2b66eb",
   "metadata": {},
   "source": [
    "### Langkah 2 - Preprocessing\n",
    "\n",
    "Beberapa hal yang akan dilakukan pada tahap ini yaitu,\n",
    "\n",
    "- Drop kolom yang tidak digunakan\n",
    "\n",
    "- Ubah nama kolom v1 (label) dan v2 (teks sms)\n",
    "\n",
    "- Inspeksi Data\n",
    "\n",
    "- Encode label\n",
    "\n",
    "- Memisahkan fitur dengan label"
   ]
  },
  {
   "cell_type": "markdown",
   "id": "2b1df6a7",
   "metadata": {},
   "source": [
    "### Langkah 2a - Drop Kolom"
   ]
  },
  {
   "cell_type": "code",
   "execution_count": null,
   "id": "aeb8b2a5",
   "metadata": {
    "vscode": {
     "languageId": "plaintext"
    }
   },
   "outputs": [],
   "source": [
    "# Drop 3 kolom terakhir dengan fungsi iloc\n",
    "df = df.drop(df.iloc[:,2:], axis=1)\n",
    "\n",
    "# Cek data\n",
    "df.head()"
   ]
  },
  {
   "cell_type": "markdown",
   "id": "f776e639",
   "metadata": {},
   "source": [
    "### Langkah 2b - Inspeksi Data"
   ]
  },
  {
   "cell_type": "code",
   "execution_count": null,
   "id": "e1dfaef4",
   "metadata": {
    "vscode": {
     "languageId": "plaintext"
    }
   },
   "outputs": [],
   "source": [
    "# Cek Jumlah Data Per Kelas\n",
    "print(df['Labels'].value_counts())\n",
    "print('\\n')\n",
    "\n",
    "# Cek Kelengkapan Data\n",
    "print(df.info())\n",
    "print('\\n')\n",
    "\n",
    "# Cek Statistik Deskriptif\n",
    "print(df.describe())"
   ]
  },
  {
   "cell_type": "markdown",
   "id": "ac3f2f7f",
   "metadata": {},
   "source": [
    "### Langkah 2c - Encoding Label"
   ]
  },
  {
   "cell_type": "code",
   "execution_count": null,
   "id": "a6180a2b",
   "metadata": {
    "vscode": {
     "languageId": "plaintext"
    }
   },
   "outputs": [],
   "source": [
    "# Data untuk label\n",
    "new_labels = {\n",
    "    'spam': 1,\n",
    "    'ham': 0\n",
    "}\n",
    "\n",
    "# Encode label\n",
    "df['Labels'] = df['Labels'].map(new_labels)\n",
    "\n",
    "# Cek data\n",
    "df.head()"
   ]
  },
  {
   "cell_type": "markdown",
   "id": "c20d5d85",
   "metadata": {},
   "source": [
    "### Langkah 2d - Pisahkan Fitur dengan Label"
   ]
  },
  {
   "cell_type": "code",
   "execution_count": null,
   "id": "5b25896b",
   "metadata": {
    "vscode": {
     "languageId": "plaintext"
    }
   },
   "outputs": [],
   "source": [
    "X = df['SMS'].values\n",
    "y = df['Labels'].values"
   ]
  },
  {
   "cell_type": "markdown",
   "id": "57e828b1",
   "metadata": {},
   "source": [
    "### Langkah 3 - Ekstraksi Fitur\n",
    "\n",
    "Ekstraksi fitur untuk setiap SMS akan menggunakan konsep Bag of Words. Kita dapat menggunakan fungsi `CountVectorizer` dari scikit-learn. Akan tetapi untuk mencegah **leaking information** kita akan melakukan split data terlebih dahulu, baru melakukan transformasi terhadap data training dan testing."
   ]
  },
  {
   "cell_type": "code",
   "execution_count": null,
   "id": "508d0634",
   "metadata": {
    "vscode": {
     "languageId": "plaintext"
    }
   },
   "outputs": [],
   "source": [
    "# Split data training dan testing\n",
    "X_train, X_test, y_train, y_test = train_test_split(X, y, test_size=0.2, random_state=50)\n",
    "\n",
    "# Inisiasi CountVectorizer\n",
    "bow = CountVectorizer()\n",
    "\n",
    "# Fitting dan transform X_train dengan CountVectorizer\n",
    "X_train = bow.fit_transform(X_train)\n",
    "\n",
    "# Transform X_test\n",
    "# Mengapa hanya transform? Alasan yang sama dengan kasus pada percobaan ke-3\n",
    "# Kita tidak menginginkan model mengetahui paramter yang digunakan oleh CountVectorizer untuk fitting data X_train\n",
    "# Sehingga, data testing dapat tetap menjadi data yang asing bagi model nantinya\n",
    "X_test = bow.transform(X_test)"
   ]
  },
  {
   "cell_type": "markdown",
   "id": "67ec342d",
   "metadata": {},
   "source": [
    "Cek fitur dari proses `CountVectorizer`."
   ]
  },
  {
   "cell_type": "code",
   "execution_count": null,
   "id": "a0d4c760",
   "metadata": {
    "vscode": {
     "languageId": "plaintext"
    }
   },
   "outputs": [],
   "source": [
    "print(len(bow.get_feature_names()))\n",
    "print(f'Dimensi data: {X_train.shape}')"
   ]
  },
  {
   "cell_type": "markdown",
   "id": "e524b516",
   "metadata": {},
   "source": [
    "### Langkah 4 - Training dan Evaluasi Model\n",
    "\n",
    "Kita akan menggunakan algoritma Multinomial Naive Bayes. Fungsi `MultinomialNB` dari scikit-learn dapat digunakan pada kasus ini."
   ]
  },
  {
   "cell_type": "code",
   "execution_count": null,
   "id": "d26ad80e",
   "metadata": {
    "vscode": {
     "languageId": "plaintext"
    }
   },
   "outputs": [],
   "source": [
    "# Inisiasi MultinomialNB\n",
    "mnb = MultinomialNB()\n",
    "\n",
    "# Fit model\n",
    "mnb.fit(X_train, y_train)\n",
    "\n",
    "# Prediksi dengan data training\n",
    "y_pred_train = mnb.predict(X_train)\n",
    "\n",
    "# Evaluasi akurasi data training\n",
    "acc_train = accuracy_score(y_train, y_pred_train)\n",
    "\n",
    "# Prediksi dengan data training\n",
    "y_pred_test = mnb.predict(X_test)\n",
    "\n",
    "# Evaluasi akurasi data training\n",
    "acc_test = accuracy_score(y_test, y_pred_test)\n",
    "\n",
    "# Print hasil evaluasi\n",
    "print(f'Hasil akurasi data train: {acc_train}')\n",
    "print(f'Hasil akurasi data test: {acc_test}')py"
   ]
  }
 ],
 "metadata": {
  "language_info": {
   "name": "python"
  }
 },
 "nbformat": 4,
 "nbformat_minor": 5
}
