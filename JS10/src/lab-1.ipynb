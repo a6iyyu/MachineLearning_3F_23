{
 "cells": [
  {
   "cell_type": "markdown",
   "id": "d4bc7816",
   "metadata": {},
   "source": [
    "# **🚙 Lab 1**\n",
    "\n",
    "kNN (k-Nearest Neighbors)."
   ]
  },
  {
   "cell_type": "markdown",
   "id": "8290c503",
   "metadata": {},
   "source": [
    "### Langkah 1 - _Load_ Data"
   ]
  },
  {
   "cell_type": "code",
   "execution_count": null,
   "id": "75c70f71",
   "metadata": {},
   "outputs": [],
   "source": [
    "from sklearn.metrics import accuracy_score, confusion_matrix, classification_report\n",
    "from sklearn.model_selection import train_test_split\n",
    "from sklearn.neighbors import KNeighborsClassifier\n",
    "from sklearn.preprocessing import StandardScaler\n",
    "import matplotlib.pyplot as plt\n",
    "import pandas as pd\n",
    "import seaborn as sns"
   ]
  },
  {
   "cell_type": "code",
   "execution_count": null,
   "id": "f40ac2da",
   "metadata": {},
   "outputs": [],
   "source": [
    "try:\n",
    "    data = pd.read_csv('iris.csv')\n",
    "    print(\"File berhasil dibaca. Ini 5 baris pertamanya:\")\n",
    "    print(data.head())\n",
    "\n",
    "except FileNotFoundError:\n",
    "    print(\"Error: File 'iris.csv' tidak ditemukan.\")\n",
    "    \n",
    "except pd.errors.EmptyDataError:\n",
    "    print(\"Error: File 'iris.csv' ditemukan, tapi isinya kosong.\")\n",
    "    \n",
    "except Exception as e:\n",
    "    print(f\"Terjadi error saat membaca file: {e}\")"
   ]
  },
  {
   "cell_type": "markdown",
   "id": "5dbe00d0",
   "metadata": {},
   "source": [
    "### Langkah 2 - Eksplorasi Data\n",
    "\n",
    "Cek struktur data informasi deskriptif data."
   ]
  },
  {
   "cell_type": "code",
   "execution_count": null,
   "id": "0b31108b",
   "metadata": {},
   "outputs": [],
   "source": [
    "data.info()\n",
    "data.describe()\n",
    "data['species'].value_counts()"
   ]
  },
  {
   "cell_type": "markdown",
   "id": "a3e63e3c",
   "metadata": {},
   "source": [
    "### Langkah 3 - Visualisasi Data\n",
    "\n",
    "Lakukan visualisasi data untuk mengetahui distribusi dan korelasi setiap fitur terhadap label."
   ]
  },
  {
   "cell_type": "code",
   "execution_count": null,
   "id": "0f29049e",
   "metadata": {},
   "outputs": [],
   "source": [
    "sns.pairplot(data, hue='species')\n",
    "plt.show()\n",
    "print(\"Hasilnya,\")"
   ]
  },
  {
   "cell_type": "markdown",
   "id": "8677e430",
   "metadata": {},
   "source": [
    "### Langkah 4 - Preprocessing\n",
    "\n",
    "Pada tahap ini, kita akan memisahkan antara label dengan fitur yang akan digunakan. Selain itu, untuk alasan pembelajaran, kita akan melakukan standardisasi dari fitur yang akan digunakan. \n",
    "\n",
    "> Pada kasus Iris Dataset, seluruh fitur sudah dalam satuan yang sama yaitu cm."
   ]
  },
  {
   "cell_type": "code",
   "execution_count": null,
   "id": "6ecd8fc8",
   "metadata": {},
   "outputs": [],
   "source": [
    "X = data.iloc[:, :-1]   # semua kolom kecuali label\n",
    "y = data.iloc[:, -1]    # kolom label terakhir\n",
    "\n",
    "# Split data (70% train, 30% test)\n",
    "X_train, X_test, y_train, y_test = train_test_split(X, y, test_size=0.3, random_state=42)\n",
    "\n",
    "# Standardisasi\n",
    "scaler = StandardScaler()\n",
    "X_train = scaler.fit_transform(X_train)\n",
    "X_test = scaler.transform(X_test)"
   ]
  },
  {
   "cell_type": "markdown",
   "id": "94cd5c3d",
   "metadata": {},
   "source": [
    "### Langkah 5 - Buat Model kNN"
   ]
  },
  {
   "cell_type": "code",
   "execution_count": null,
   "id": "56acafb6",
   "metadata": {},
   "outputs": [],
   "source": [
    "# Tentukan nilai K (misalnya 3)\n",
    "knn = KNeighborsClassifier(n_neighbors=3)\n",
    "\n",
    "# Latih model\n",
    "knn.fit(X_train, y_train)"
   ]
  },
  {
   "cell_type": "markdown",
   "id": "fb955b24",
   "metadata": {},
   "source": [
    "### Langkah 6 - Evaluasi Model kNN\n",
    "\n",
    "Pada tahap ini kita akan melakukan evaluasi terhadap model kNN yang telah dibuat sebelumnya. Metrik utama yang akan digunakan adalah akurasi dan detail analisis menggunakan confusion metrics."
   ]
  },
  {
   "cell_type": "code",
   "execution_count": null,
   "id": "98b46fce",
   "metadata": {},
   "outputs": [],
   "source": [
    "y_pred = knn.predict(X_test)\n",
    "print(\"Akurasi:\", accuracy_score(y_test, y_pred))\n",
    "print(\"Confusion Matrix:\\n\", confusion_matrix(y_test, y_pred))\n",
    "print(\"Laporan Klasifikasi:\\n\", classification_report(y_test, y_pred))\n",
    "print(\"Didapatkan hasil,\")"
   ]
  },
  {
   "cell_type": "markdown",
   "id": "d644570d",
   "metadata": {},
   "source": [
    "Dapat dilihat bahwa model dapat bekerja dengan performa sempurna pada data testing. Namun apakah memang nilai `k` adalah nilai yang terbaik? Selanjutnya kita akan mengevaluasi setiap nilai `k`."
   ]
  },
  {
   "cell_type": "code",
   "execution_count": null,
   "id": "481034a1",
   "metadata": {},
   "outputs": [],
   "source": [
    "acc = []\n",
    "for k in range(1, 11):\n",
    "    model = KNeighborsClassifier(n_neighbors=k)\n",
    "    model.fit(X_train, y_train)\n",
    "    acc.append(model.score(X_test, y_test))\n",
    "\n",
    "print(\"Hasilnya,\")\n",
    "plt.plot(range(1, 11), acc, marker='o')\n",
    "plt.title('Nilai K vs Akurasi')\n",
    "plt.xlabel('Nilai K')\n",
    "plt.ylabel('Akurasi')\n",
    "plt.show()"
   ]
  },
  {
   "cell_type": "markdown",
   "id": "9cf50d31",
   "metadata": {},
   "source": [
    "Dapat dilihat bahwa performa data test mendapatkan nilai sempurna pada `k = 3` dilanjutkan dengan `k = 6` hingga `k = 10`. Meskipun demikian, perlu dicatat bahwa kNN tidak pernah menyimpan bobot hasil training,  proses klasifikasi dilakukan secara langsung sesuai dengan jumlah tetangga sehingga hasil ini masih perlu dibandingkan dengan hasil data training. Gambar di bawah ini merupakan perbandingan performa akurasi antara data training dan data testing."
   ]
  }
 ],
 "metadata": {
  "language_info": {
   "name": "python"
  }
 },
 "nbformat": 4,
 "nbformat_minor": 5
}
