{
 "cells": [
  {
   "cell_type": "markdown",
   "id": "8e56f101",
   "metadata": {},
   "source": [
    "# **Praktikum 1**\n",
    "\n",
    "Pada praktikum ini kita akan mempelajari algoritma **HDBSCAN (Hierarchical Density-Based Spatial Clustering of Applications with Noise)** sebagai salah satu metode _clustering_ berbasis densitas yang lebih robust dibandingkan `DBSCAN`. Melalui pendekatan hierarki, `HDBSCAN` mampu mengatasi keterbatasan parameter `eps` yang sensitif pada `DBSCAN` serta dapat menyesuaikan diri dengan data yang memiliki kepadatan berbeda. Praktikum ini akan difokuskan pada eksplorasi hasil _clustering_ menggunakan dataset sintetis serta pengaruh _hyperparameter_ penting seperti `min_cluster_size`, `min_samples`, dan `cut_distance`, sehingga nantinya dapat memahami bagaimana `HDBSCAN` bekerja dalam memisahkan _cluster_, mengidentifikasi _noise_, dan beradaptasi dengan struktur data yang kompleks."
   ]
  },
  {
   "cell_type": "markdown",
   "id": "8164d3f3",
   "metadata": {},
   "source": [
    "### **Persiapan Lingkungan**"
   ]
  },
  {
   "cell_type": "code",
   "execution_count": 2,
   "id": "4ead3f87",
   "metadata": {},
   "outputs": [
    {
     "name": "stdout",
     "output_type": "stream",
     "text": [
      "Collecting hdbscan\n",
      "  Using cached hdbscan-0.8.40.tar.gz (6.9 MB)\n",
      "  Installing build dependencies: started\n",
      "  Installing build dependencies: finished with status 'done'\n",
      "  Getting requirements to build wheel: started\n",
      "  Getting requirements to build wheel: finished with status 'done'\n",
      "  Preparing metadata (pyproject.toml): started\n",
      "  Preparing metadata (pyproject.toml): finished with status 'done'\n",
      "Requirement already satisfied: numpy<3,>=1.20 in d:\\kuliah\\semester-5\\ml\\venv\\lib\\site-packages (from hdbscan) (2.3.2)\n",
      "Requirement already satisfied: scipy>=1.0 in d:\\kuliah\\semester-5\\ml\\venv\\lib\\site-packages (from hdbscan) (1.16.1)\n",
      "Requirement already satisfied: scikit-learn>=0.20 in d:\\kuliah\\semester-5\\ml\\venv\\lib\\site-packages (from hdbscan) (1.7.1)\n",
      "Requirement already satisfied: joblib>=1.0 in d:\\kuliah\\semester-5\\ml\\venv\\lib\\site-packages (from hdbscan) (1.5.1)\n",
      "Requirement already satisfied: threadpoolctl>=3.1.0 in d:\\kuliah\\semester-5\\ml\\venv\\lib\\site-packages (from scikit-learn>=0.20->hdbscan) (3.6.0)\n",
      "Building wheels for collected packages: hdbscan\n",
      "  Building wheel for hdbscan (pyproject.toml): started\n",
      "  Building wheel for hdbscan (pyproject.toml): finished with status 'error'\n",
      "Failed to build hdbscan\n",
      "Note: you may need to restart the kernel to use updated packages.\n"
     ]
    },
    {
     "name": "stderr",
     "output_type": "stream",
     "text": [
      "  error: subprocess-exited-with-error\n",
      "  \n",
      "  × Building wheel for hdbscan (pyproject.toml) did not run successfully.\n",
      "  │ exit code: 1\n",
      "  ╰─> [39 lines of output]\n",
      "      C:\\Users\\berkah\\AppData\\Local\\Temp\\pip-build-env-naa50nlv\\overlay\\Lib\\site-packages\\setuptools\\_distutils\\dist.py:289: UserWarning: Unknown distribution option: 'test_suite'\n",
      "        warnings.warn(msg)\n",
      "      C:\\Users\\berkah\\AppData\\Local\\Temp\\pip-build-env-naa50nlv\\overlay\\Lib\\site-packages\\setuptools\\_distutils\\dist.py:289: UserWarning: Unknown distribution option: 'tests_require'\n",
      "        warnings.warn(msg)\n",
      "      C:\\Users\\berkah\\AppData\\Local\\Temp\\pip-build-env-naa50nlv\\overlay\\Lib\\site-packages\\setuptools\\dist.py:759: SetuptoolsDeprecationWarning: License classifiers are deprecated.\n",
      "      !!\n",
      "      \n",
      "              ********************************************************************************\n",
      "              Please consider removing the following classifiers in favor of a SPDX license expression:\n",
      "      \n",
      "              License :: OSI Approved\n",
      "      \n",
      "              See https://packaging.python.org/en/latest/guides/writing-pyproject-toml/#license for details.\n",
      "              ********************************************************************************\n",
      "      \n",
      "      !!\n",
      "        self._finalize_license_expression()\n",
      "      running bdist_wheel\n",
      "      running build\n",
      "      running build_py\n",
      "      creating build\\lib.win-amd64-cpython-313\\hdbscan\n",
      "      copying hdbscan\\branches.py -> build\\lib.win-amd64-cpython-313\\hdbscan\n",
      "      copying hdbscan\\flat.py -> build\\lib.win-amd64-cpython-313\\hdbscan\n",
      "      copying hdbscan\\hdbscan_.py -> build\\lib.win-amd64-cpython-313\\hdbscan\n",
      "      copying hdbscan\\plots.py -> build\\lib.win-amd64-cpython-313\\hdbscan\n",
      "      copying hdbscan\\prediction.py -> build\\lib.win-amd64-cpython-313\\hdbscan\n",
      "      copying hdbscan\\robust_single_linkage_.py -> build\\lib.win-amd64-cpython-313\\hdbscan\n",
      "      copying hdbscan\\validity.py -> build\\lib.win-amd64-cpython-313\\hdbscan\n",
      "      copying hdbscan\\__init__.py -> build\\lib.win-amd64-cpython-313\\hdbscan\n",
      "      creating build\\lib.win-amd64-cpython-313\\hdbscan\\tests\n",
      "      copying hdbscan\\tests\\test_branches.py -> build\\lib.win-amd64-cpython-313\\hdbscan\\tests\n",
      "      copying hdbscan\\tests\\test_flat.py -> build\\lib.win-amd64-cpython-313\\hdbscan\\tests\n",
      "      copying hdbscan\\tests\\test_hdbscan.py -> build\\lib.win-amd64-cpython-313\\hdbscan\\tests\n",
      "      copying hdbscan\\tests\\test_prediction_utils.py -> build\\lib.win-amd64-cpython-313\\hdbscan\\tests\n",
      "      copying hdbscan\\tests\\test_rsl.py -> build\\lib.win-amd64-cpython-313\\hdbscan\\tests\n",
      "      copying hdbscan\\tests\\__init__.py -> build\\lib.win-amd64-cpython-313\\hdbscan\\tests\n",
      "      running build_ext\n",
      "      building 'hdbscan._hdbscan_tree' extension\n",
      "      error: Microsoft Visual C++ 14.0 or greater is required. Get it with \"Microsoft C++ Build Tools\": https://visualstudio.microsoft.com/visual-cpp-build-tools/\n",
      "      [end of output]\n",
      "  \n",
      "  note: This error originates from a subprocess, and is likely not a problem with pip.\n",
      "  ERROR: Failed building wheel for hdbscan\n",
      "error: failed-wheel-build-for-install\n",
      "\n",
      "× Failed to build installable wheels for some pyproject.toml based projects\n",
      "╰─> hdbscan\n"
     ]
    },
    {
     "ename": "ModuleNotFoundError",
     "evalue": "No module named 'hdbscan'",
     "output_type": "error",
     "traceback": [
      "\u001b[31m---------------------------------------------------------------------------\u001b[39m",
      "\u001b[31mModuleNotFoundError\u001b[39m                       Traceback (most recent call last)",
      "\u001b[36mCell\u001b[39m\u001b[36m \u001b[39m\u001b[32mIn[2]\u001b[39m\u001b[32m, line 5\u001b[39m\n\u001b[32m      2\u001b[39m get_ipython().run_line_magic(\u001b[33m'\u001b[39m\u001b[33mpip\u001b[39m\u001b[33m'\u001b[39m, \u001b[33m'\u001b[39m\u001b[33minstall hdbscan\u001b[39m\u001b[33m'\u001b[39m)\n\u001b[32m      4\u001b[39m \u001b[38;5;66;03m# Import modul\u001b[39;00m\n\u001b[32m----> \u001b[39m\u001b[32m5\u001b[39m \u001b[38;5;28;01mimport\u001b[39;00m\u001b[38;5;250m \u001b[39m\u001b[34;01mhdbscan\u001b[39;00m\n\u001b[32m      6\u001b[39m \u001b[38;5;28;01mimport\u001b[39;00m\u001b[38;5;250m \u001b[39m\u001b[34;01mmatplotlib\u001b[39;00m\u001b[34;01m.\u001b[39;00m\u001b[34;01mpyplot\u001b[39;00m\u001b[38;5;250m \u001b[39m\u001b[38;5;28;01mas\u001b[39;00m\u001b[38;5;250m \u001b[39m\u001b[34;01mplt\u001b[39;00m\n\u001b[32m      7\u001b[39m \u001b[38;5;28;01mimport\u001b[39;00m\u001b[38;5;250m \u001b[39m\u001b[34;01mnumpy\u001b[39;00m\u001b[38;5;250m \u001b[39m\u001b[38;5;28;01mas\u001b[39;00m\u001b[38;5;250m \u001b[39m\u001b[34;01mnp\u001b[39;00m\n",
      "\u001b[31mModuleNotFoundError\u001b[39m: No module named 'hdbscan'"
     ]
    }
   ],
   "source": [
    "# Instalasi pustaka hdbscan (tidak tersedia default di sklearn)\n",
    "%pip install hdbscan\n",
    "\n",
    "# Import modul\n",
    "import hdbscan\n",
    "import matplotlib.pyplot as plt\n",
    "import numpy as np\n",
    "\n",
    "from sklearn.cluster import DBSCAN\n",
    "from sklearn.datasets import make_blobs"
   ]
  },
  {
   "cell_type": "markdown",
   "id": "083a1185",
   "metadata": {},
   "source": [
    "### **Langkah 2: Definisi Fungsi Visualisasi**\n",
    "\n",
    "Jalankan fungsi ini agar kita bisa mem-plot hasil _clustering_ dengan warna berbeda."
   ]
  },
  {
   "cell_type": "code",
   "execution_count": null,
   "id": "f13bdcb6",
   "metadata": {},
   "outputs": [],
   "source": [
    "def plot(X, labels, probabilities=None, parameters=None, ground_truth=False, ax=None):\n",
    "    if ax is None:\n",
    "        _, ax = plt.subplots(figsize=(10, 4))\n",
    "    labels = labels if labels is not None else np.ones(X.shape[0])\n",
    "    probabilities = probabilities if probabilities is not None else np.ones(X.shape[0])\n",
    "    unique_labels = set(labels)\n",
    "    colors = [plt.cm.Spectral(each) for each in np.linspace(0, 1, len(unique_labels))]\n",
    "    proba_map = {idx: probabilities[idx] for idx in range(len(labels))}\n",
    "    \n",
    "    for k, col in zip(unique_labels, colors):\n",
    "        if k == -1:\n",
    "            col = [0, 0, 0, 1]  # warna hitam untuk noise\n",
    "        class_index = (labels == k).nonzero()[0]\n",
    "        for ci in class_index:\n",
    "            ax.plot(\n",
    "                X[ci, 0],\n",
    "                X[ci, 1],\n",
    "                \"x\" if k == -1 else \"o\",\n",
    "                markerfacecolor=tuple(col),\n",
    "                markeredgecolor=\"k\",\n",
    "                markersize=4 if k == -1 else 1 + 5 * proba_map[ci],\n",
    "            )\n",
    "    n_clusters_ = len(set(labels)) - (1 if -1 in labels else 0)\n",
    "    preamble = \"True\" if ground_truth else \"Estimated\"\n",
    "    title = f\"{preamble} number of clusters: {n_clusters_}\"\n",
    "    if parameters is not None:\n",
    "        parameters_str = \", \".join(f\"{k}={v}\" for k, v in parameters.items())\n",
    "        title += f\" | {parameters_str}\"\n",
    "    ax.set_title(title)\n",
    "    plt.tight_layout()"
   ]
  }
 ],
 "metadata": {
  "kernelspec": {
   "display_name": "venv",
   "language": "python",
   "name": "python3"
  },
  "language_info": {
   "codemirror_mode": {
    "name": "ipython",
    "version": 3
   },
   "file_extension": ".py",
   "mimetype": "text/x-python",
   "name": "python",
   "nbconvert_exporter": "python",
   "pygments_lexer": "ipython3",
   "version": "3.13.6"
  }
 },
 "nbformat": 4,
 "nbformat_minor": 5
}
