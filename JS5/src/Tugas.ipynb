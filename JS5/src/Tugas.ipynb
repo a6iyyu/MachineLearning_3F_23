{
 "cells": [
  {
   "cell_type": "markdown",
   "id": "f4a4406a",
   "metadata": {},
   "source": [
    "# **Praktikum 2**\n",
    "\n",
    "Setelah pada praktikum pertama kita membandingkan `HDBSCAN` dengan `DBSCAN` dan melihat keunggulannya, pada praktikum kedua ini kita akan fokus hanya pada `HDBSCAN`. Tujuannya adalah memahami bagaimana hasil clustering dapat dipengaruhi oleh perubahan _hyperparameter_. Dengan mencoba berbagai nilai untuk `min_cluster_size`, `min_samples`, dan `cut_distance`, kita akan melihat bagaimana HDBSCAN mengatur jumlah _cluster_, memisahkan _noise_, dan menyesuaikan diri terhadap struktur data yang berbeda."
   ]
  },
  {
   "cell_type": "markdown",
   "id": "0cfa59a2",
   "metadata": {},
   "source": [
    "### Langkah 7: Eksperimen _Hyperparameter_ `min_cluster_size`"
   ]
  },
  {
   "cell_type": "code",
   "execution_count": null,
   "id": "5070c50f",
   "metadata": {},
   "outputs": [],
   "source": [
    "PARAM = ({\"min_cluster_size\": 5}, {\"min_cluster_size\": 3}, {\"min_cluster_size\": 25})\n",
    "fig, axes = plt.subplots(3, 1, figsize=(10, 12))\n",
    "for i, param in enumerate(PARAM):\n",
    "    hdb = hdbscan.HDBSCAN(**param).fit(X)\n",
    "    plot(X, hdb.labels_, hdb.probabilities_, param, ax=axes[i])"
   ]
  }
 ],
 "metadata": {
  "language_info": {
   "name": "python"
  }
 },
 "nbformat": 4,
 "nbformat_minor": 5
}
