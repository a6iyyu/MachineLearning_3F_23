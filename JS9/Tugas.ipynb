{
 "cells": [
  {
   "cell_type": "markdown",
   "id": "e120c413",
   "metadata": {},
   "source": [
    "# **☘️ Praktikum 0**\n",
    "\n",
    "## **Random Split**\n",
    "\n",
    "Pada pratikum ini, kita akan mencoba 3 macam strategi pembuatan data latih, validasi, dan uji. Data yang digunakan adalah data kapal Titanic yang sudah kita ekstraksi fiturnya pada pratikum sebelumnya."
   ]
  },
  {
   "cell_type": "code",
   "execution_count": null,
   "id": "79b70a22",
   "metadata": {
    "vscode": {
     "languageId": "plaintext"
    }
   },
   "outputs": [],
   "source": [
    "import pandas as pd"
   ]
  },
  {
   "cell_type": "code",
   "execution_count": null,
   "id": "3703b0c9",
   "metadata": {
    "vscode": {
     "languageId": "plaintext"
    }
   },
   "outputs": [],
   "source": [
    "df = pd.read_csv('data/Titanic-Dataset-selected.csv')\n",
    "df.head()"
   ]
  }
 ],
 "metadata": {
  "language_info": {
   "name": "python"
  }
 },
 "nbformat": 4,
 "nbformat_minor": 5
}
