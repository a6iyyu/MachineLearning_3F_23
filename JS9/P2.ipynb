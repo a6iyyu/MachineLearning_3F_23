{
 "cells": [
  {
   "cell_type": "markdown",
   "id": "ad74a9fa",
   "metadata": {},
   "source": [
    "# **📈 Praktikum 2**\n",
    "\n",
    "## **Langkah 1 - _Import Library_**\n",
    "\n",
    "Lakukan _import library_ yang diperlukan terlebih dahulu, termasuk NumPy, Matplotlib, dan pandas."
   ]
  },
  {
   "cell_type": "code",
   "execution_count": null,
   "id": "d5ef22d5",
   "metadata": {
    "vscode": {
     "languageId": "plaintext"
    }
   },
   "outputs": [],
   "source": [
    "# Mengimpor library\n",
    "import numpy as np\n",
    "import matplotlib.pyplot as plt\n",
    "import pandas as pd"
   ]
  }
 ],
 "metadata": {
  "language_info": {
   "name": "python"
  }
 },
 "nbformat": 4,
 "nbformat_minor": 5
}
