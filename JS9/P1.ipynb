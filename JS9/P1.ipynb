{
 "cells": [
  {
   "cell_type": "markdown",
   "id": "71350dd8",
   "metadata": {},
   "source": [
    "# **📈 Praktikum 1**\n",
    "\n",
    "## **Langkah 1: Persiapan Data**\n",
    "\n",
    "Download dan letakkan _file_ data yang akan digunakan pada direktori yang sama. Pastikan data telah disimpan dalam format CSV.\n",
    "\n",
    "## **Langkah 2: _Import Library_**"
   ]
  },
  {
   "cell_type": "code",
   "execution_count": null,
   "id": "5ee9c699",
   "metadata": {
    "vscode": {
     "languageId": "plaintext"
    }
   },
   "outputs": [],
   "source": [
    "# import package\n",
    "import numpy as np\n",
    "import pandas as pd"
   ]
  }
 ],
 "metadata": {
  "language_info": {
   "name": "python"
  }
 },
 "nbformat": 4,
 "nbformat_minor": 5
}
