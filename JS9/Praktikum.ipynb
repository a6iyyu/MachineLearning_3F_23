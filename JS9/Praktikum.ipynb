{
 "cells": [
  {
   "cell_type": "markdown",
   "id": "123c441a",
   "metadata": {},
   "source": [
    "# **💹 Tugas Praktikum**\n",
    "\n",
    "## Instruksi Umum:\n",
    "\n",
    "1. Anda akan menggunakan dataset \"Medical Cost Personal Datasets\". Pastikan Anda telah mengunduh dataset ini.\n",
    "\n",
    "2. Gunakan bahasa pemrograman Python dan library yang sesuai seperti NumPy, Pandas, Matplotlib dan Scikit-Learn untuk melakukan analisis regresi dan SVR."
   ]
  },
  {
   "cell_type": "code",
   "execution_count": null,
   "id": "609219ec",
   "metadata": {},
   "outputs": [],
   "source": [
    "import numpy as np"
   ]
  }
 ],
 "metadata": {
  "language_info": {
   "name": "python"
  }
 },
 "nbformat": 4,
 "nbformat_minor": 5
}
