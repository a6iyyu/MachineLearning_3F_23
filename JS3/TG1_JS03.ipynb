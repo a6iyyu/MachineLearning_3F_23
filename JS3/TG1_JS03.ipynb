{
 "cells": [
  {
   "cell_type": "markdown",
   "id": "7ca3d0d1",
   "metadata": {},
   "source": [
    "# **Tugas Praktikum**\n",
    "\n",
    "Pada tugas pratikum ini Anda akan menggunakan data `\"Wisconsin Breast Cancer\"`. Data tersebut terdiri dari 569 data yang digunakan untuk mendiagnonis jenis kanker `Malignant (M)` dan `Benign (B)`. Tugas Anda adalah,\n",
    "\n",
    "1. Pisahkan antara variabel yang dapat digunakan dan variabel yang tidak dapat digunakan.\n",
    "2. Lakukan proses encoding pada kolom \"diagnosis\".\n",
    "3. Lakukan proses standardisasi pada semua kolom yang memiliki nilai numerik.\n",
    "4. Lakukan proses seleksi fitur. Anda dapat menggunakan SelectKBest.\n",
    "5. Lakukan proses pengujian dengan model Logistic Regression seperti pada praktikum 1.\n",
    "6. Anda dapat menggunakan model pipeline untuk mempermudah perkejaan Anda.\n",
    "7. Berdasarkan hasil analisa Anda, berapa jumlah fitur terbaik yang dapat digunakan? Apa saja fitur tersebut?"
   ]
  },
  {
   "cell_type": "code",
   "execution_count": null,
   "id": "90ea0b2d",
   "metadata": {},
   "outputs": [],
   "source": [
    "import pandas as pd\n",
    "\n",
    "from pandas import DataFrame, Series\n",
    "from sklearn.model_selection import train_test_split # type: ignore\n",
    "from sklearn.preprocessing import StandardScaler\n",
    "from sklearn.feature_selection import SelectKBest, f_classif\n",
    "from sklearn.linear_model import LogisticRegression\n",
    "from sklearn.pipeline import Pipeline\n",
    "from sklearn.metrics import accuracy_score, classification_report # type: ignore\n",
    "from sklearn.impute import SimpleImputer\n",
    "from typing import Dict, List"
   ]
  },
  {
   "cell_type": "code",
   "execution_count": null,
   "id": "3e74d73b",
   "metadata": {},
   "outputs": [
    {
     "name": "stdout",
     "output_type": "stream",
     "text": [
      "Jumlah fitur terbaik: 20\n",
      "Akurasi: 0.9824561403508771\n",
      "Fitur terpilih: ['radius_mean', 'texture_mean', 'perimeter_mean', 'area_mean', 'compactness_mean', 'concavity_mean', 'concave points_mean', 'radius_se', 'perimeter_se', 'area_se', 'concave points_se', 'radius_worst', 'texture_worst', 'perimeter_worst', 'area_worst', 'smoothness_worst', 'compactness_worst', 'concavity_worst', 'concave points_worst', 'symmetry_worst']\n",
      "              precision    recall  f1-score   support\n",
      "\n",
      "           0       0.97      1.00      0.99        72\n",
      "           1       1.00      0.95      0.98        42\n",
      "\n",
      "    accuracy                           0.98       114\n",
      "   macro avg       0.99      0.98      0.98       114\n",
      "weighted avg       0.98      0.98      0.98       114\n",
      "\n"
     ]
    }
   ],
   "source": [
    "# 1. Load data\n",
    "df: DataFrame = pd.read_csv(\"wbc.csv\") # type: ignore\n",
    "\n",
    "# 2. Pisahkan variabel\n",
    "df = df.dropna(axis=1, how=\"all\")  # type: ignore # buang kolom kosong sepenuhnya\n",
    "\n",
    "X: DataFrame = df.drop(columns=[\"id\", \"diagnosis\"])   # buang kolom id & target\n",
    "X = X.select_dtypes(include=\"number\")                 # type: ignore # hanya ambil numerik\n",
    "y: Series = df[\"diagnosis\"].map({\"M\": 1, \"B\": 0})\n",
    "\n",
    "# 3. Bagi data train-test\n",
    "X_train: DataFrame\n",
    "X_test: DataFrame\n",
    "y_train: Series\n",
    "y_test: Series\n",
    "\n",
    "X_train, X_test, y_train, y_test = train_test_split(X, y, test_size=0.2, random_state=42, stratify=y) # type: ignore\n",
    "\n",
    "# 4. Pipeline: imputasi -> scaling -> seleksi fitur -> logistic regression\n",
    "def build_pipeline(k: int) -> Pipeline:\n",
    "    return Pipeline([\n",
    "        (\"imputer\", SimpleImputer(strategy=\"mean\")),   # isi NaN dengan mean\n",
    "        (\"scaler\", StandardScaler()),\n",
    "        (\"select\", SelectKBest(score_func=f_classif, k=k)),\n",
    "        (\"clf\", LogisticRegression(max_iter=1000))\n",
    "    ])\n",
    "\n",
    "\n",
    "# 5. Uji dengan berbagai jumlah fitur\n",
    "results: Dict[int, float] = {}\n",
    "for k in range(5, X.shape[1] + 1, 5):  # coba per 5 fitur\n",
    "    pipe: Pipeline = build_pipeline(k)\n",
    "    pipe.fit(X_train, y_train) # type: ignore\n",
    "    y_pred: Series = pipe.predict(X_test) # type: ignore\n",
    "    acc: float = accuracy_score(y_test, y_pred) # type: ignore\n",
    "    results[k] = acc\n",
    "\n",
    "# 6. Cari k terbaik\n",
    "best_k: int = max(results, key=results.get) # type: ignore\n",
    "best_acc: float = results[best_k]\n",
    "\n",
    "print(\"Jumlah fitur terbaik:\", best_k) # type: ignore\n",
    "print(\"Akurasi:\", best_acc)\n",
    "\n",
    "# 7. Fitur yang terpilih\n",
    "final_pipe: Pipeline = build_pipeline(best_k) # type: ignore\n",
    "final_pipe.fit(X_train, y_train) # type: ignore\n",
    "mask: List[bool] = final_pipe.named_steps[\"select\"].get_support().tolist() # type: ignore\n",
    "selected_features: List[str] = X.columns[mask].tolist()\n",
    "\n",
    "print(\"Fitur terpilih:\", selected_features)\n",
    "\n",
    "# 8. Laporan klasifikasi\n",
    "y_pred: Series = final_pipe.predict(X_test) # type: ignore\n",
    "print(classification_report(y_test, y_pred)) # type: ignore"
   ]
  }
 ],
 "metadata": {
  "kernelspec": {
   "display_name": "venv",
   "language": "python",
   "name": "python3"
  },
  "language_info": {
   "codemirror_mode": {
    "name": "ipython",
    "version": 3
   },
   "file_extension": ".py",
   "mimetype": "text/x-python",
   "name": "python",
   "nbconvert_exporter": "python",
   "pygments_lexer": "ipython3",
   "version": "3.13.6"
  }
 },
 "nbformat": 4,
 "nbformat_minor": 5
}
