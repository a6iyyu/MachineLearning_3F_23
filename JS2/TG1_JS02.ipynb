{
 "cells": [
  {
   "cell_type": "markdown",
   "id": "b7e1d9ee",
   "metadata": {},
   "source": [
    "Pada tugas pratikum ini Anda akan menggunakan data \"Wisconsin Breast Cancer\". Data tersebut terdiri dari 569 data yang digunakan untuk mendiagnonis jenis kanker Malignant (M) dan Benign (B). Tugas Anda adalah,\n",
    "1. Pisahkan antara variabel yang dapat digunakan dan variabel yang tidak dapat digunakan.\n",
    "2. Lakukan proses encoding pada kolom \"diagnosis\".\n",
    "3. Lakukan proses standardisasi pada semua kolom yang memiliki nilai numerik."
   ]
  },
  {
   "cell_type": "code",
   "execution_count": 15,
   "id": "f0df1314",
   "metadata": {},
   "outputs": [],
   "source": [
    "from polars import DataFrame, Float64, Series\n",
    "from typing import Tuple\n",
    "import polars as pl"
   ]
  },
  {
   "cell_type": "code",
   "execution_count": 16,
   "id": "e890b3f3",
   "metadata": {},
   "outputs": [
    {
     "name": "stdout",
     "output_type": "stream",
     "text": [
      "Kolom fitur setelah standardisasi:\n",
      "['radius_mean', 'texture_mean', 'perimeter_mean', 'area_mean', 'smoothness_mean', 'compactness_mean', 'concavity_mean', 'concave points_mean', 'symmetry_mean', 'fractal_dimension_mean', 'radius_se', 'texture_se', 'perimeter_se', 'area_se', 'smoothness_se', 'compactness_se', 'concavity_se', 'concave points_se', 'symmetry_se', 'fractal_dimension_se', 'radius_worst', 'texture_worst', 'perimeter_worst', 'area_worst', 'smoothness_worst', 'compactness_worst', 'concavity_worst', 'concave points_worst', 'symmetry_worst', 'fractal_dimension_worst', '']\n",
      "\n",
      "Contoh data fitur setelah standardisasi:\n",
      "shape: (5, 31)\n",
      "┌────────────┬────────────┬────────────┬───────────┬───┬────────────┬───────────┬───────────┬──────┐\n",
      "│ radius_mea ┆ texture_me ┆ perimeter_ ┆ area_mean ┆ … ┆ concave    ┆ symmetry_ ┆ fractal_d ┆      │\n",
      "│ n          ┆ an         ┆ mean       ┆ ---       ┆   ┆ points_wor ┆ worst     ┆ imension_ ┆ ---  │\n",
      "│ ---        ┆ ---        ┆ ---        ┆ f64       ┆   ┆ st         ┆ ---       ┆ worst     ┆ f64  │\n",
      "│ f64        ┆ f64        ┆ f64        ┆           ┆   ┆ ---        ┆ f64       ┆ ---       ┆      │\n",
      "│            ┆            ┆            ┆           ┆   ┆ f64        ┆           ┆ f64       ┆      │\n",
      "╞════════════╪════════════╪════════════╪═══════════╪═══╪════════════╪═══════════╪═══════════╪══════╡\n",
      "│ 1.0961     ┆ -2.071512  ┆ 1.268817   ┆ 0.98351   ┆ … ┆ 2.294058   ┆ 2.748204  ┆ 1.935312  ┆ null │\n",
      "│ 1.828212   ┆ -0.353322  ┆ 1.684473   ┆ 1.90703   ┆ … ┆ 1.086129   ┆ -0.243675 ┆ 0.280943  ┆ null │\n",
      "│ 1.578499   ┆ 0.455786   ┆ 1.565126   ┆ 1.557513  ┆ … ┆ 1.953282   ┆ 1.151242  ┆ 0.201214  ┆ null │\n",
      "│ -0.768233  ┆ 0.253509   ┆ -0.592166  ┆ -0.763792 ┆ … ┆ 2.173873   ┆ 6.040726  ┆ 4.930672  ┆ null │\n",
      "│ 1.748758   ┆ -1.150804  ┆ 1.775011   ┆ 1.824624  ┆ … ┆ 0.728618   ┆ -0.86759  ┆ -0.396751 ┆ null │\n",
      "└────────────┴────────────┴────────────┴───────────┴───┴────────────┴───────────┴───────────┴──────┘\n",
      "\n",
      "Contoh label encoded:\n",
      "shape: (10,)\n",
      "Series: 'diagnosis' [i8]\n",
      "[\n",
      "\t1\n",
      "\t1\n",
      "\t1\n",
      "\t1\n",
      "\t1\n",
      "\t1\n",
      "\t1\n",
      "\t1\n",
      "\t1\n",
      "\t1\n",
      "]\n"
     ]
    }
   ],
   "source": [
    "def load_and_process_wbc(csv_path: str) -> Tuple[DataFrame, Series]:\n",
    "    # 1. Baca CSV\n",
    "    df: DataFrame = pl.read_csv(csv_path)\n",
    "\n",
    "    # 2a. Pisahkan fitur dan label\n",
    "    features: DataFrame = df.drop(['id', 'diagnosis'])\n",
    "\n",
    "    # 2b. Cast semua kolom numerik ke float\n",
    "    features = features.select([pl.col(c).cast(Float64) for c in features.columns])\n",
    "\n",
    "    # 3. Encoding kolom diagnosis: M -> 1, B -> 0\n",
    "    label_encoded: Series = (\n",
    "        df.select(pl.when(pl.col(\"diagnosis\") == \"M\").then(1).otherwise(0).alias(\"diagnosis\"))\n",
    "        .to_series()\n",
    "        .cast(pl.Int8)\n",
    "    )\n",
    "\n",
    "    # 4. Standardisasi fitur numerik sepenuhnya di Polars\n",
    "    features_scaled: DataFrame = features.select([\n",
    "        ((pl.col(c) - pl.col(c).mean()) / pl.col(c).std()).alias(c)\n",
    "        for c in features.columns\n",
    "    ])\n",
    "\n",
    "    return features_scaled, label_encoded\n",
    "\n",
    "\n",
    "# --- Eksekusi ---\n",
    "features_scaled, label_encoded = load_and_process_wbc(\"wbc.csv\")\n",
    "\n",
    "print(\"Kolom fitur setelah standardisasi:\")\n",
    "print(features_scaled.columns)\n",
    "\n",
    "print(\"\\nContoh data fitur setelah standardisasi:\")\n",
    "print(features_scaled.head())\n",
    "\n",
    "print(\"\\nContoh label encoded:\")\n",
    "print(label_encoded.head())"
   ]
  }
 ],
 "metadata": {
  "kernelspec": {
   "display_name": "venv",
   "language": "python",
   "name": "python3"
  },
  "language_info": {
   "codemirror_mode": {
    "name": "ipython",
    "version": 3
   },
   "file_extension": ".py",
   "mimetype": "text/x-python",
   "name": "python",
   "nbconvert_exporter": "python",
   "pygments_lexer": "ipython3",
   "version": "3.13.6"
  }
 },
 "nbformat": 4,
 "nbformat_minor": 5
}
