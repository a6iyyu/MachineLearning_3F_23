{
  "cells": [
    {
      "cell_type": "markdown",
      "metadata": {
        "id": "view-in-github",
        "colab_type": "text"
      },
      "source": [
        "<a href=\"https://colab.research.google.com/github/a6iyyu/MachineLearning_3F_23/blob/main/JS6/Tugas.ipynb\" target=\"_parent\"><img src=\"https://colab.research.google.com/assets/colab-badge.svg\" alt=\"Open In Colab\"/></a>"
      ]
    },
    {
      "cell_type": "markdown",
      "source": [
        "# **Tugas**\n",
        "\n",
        "Jalankan code berikut pada Google Colab dan PyDroid3 (Android Python) Application di Smartphone Android. Bandingkan hasilnya dan tuliskan analisa anda, tuliskan juga spesifikasi smartphone yang anda gunakan."
      ],
      "metadata": {
        "id": "6RB5MVyQg052"
      },
      "id": "6RB5MVyQg052"
    },
    {
      "cell_type": "code",
      "source": [
        "!pip install annoy faiss-cpu hnswlib"
      ],
      "metadata": {
        "id": "eNP9dAyBhSlw",
        "outputId": "c3bfd145-935e-4e7e-fb05-568890f050f3",
        "colab": {
          "base_uri": "https://localhost:8080/"
        }
      },
      "id": "eNP9dAyBhSlw",
      "execution_count": 10,
      "outputs": [
        {
          "output_type": "stream",
          "name": "stdout",
          "text": [
            "Requirement already satisfied: annoy in /usr/local/lib/python3.12/dist-packages (1.17.3)\n",
            "Requirement already satisfied: faiss-cpu in /usr/local/lib/python3.12/dist-packages (1.12.0)\n",
            "Requirement already satisfied: hnswlib in /usr/local/lib/python3.12/dist-packages (0.8.0)\n",
            "Requirement already satisfied: numpy<3.0,>=1.25.0 in /usr/local/lib/python3.12/dist-packages (from faiss-cpu) (2.0.2)\n",
            "Requirement already satisfied: packaging in /usr/local/lib/python3.12/dist-packages (from faiss-cpu) (25.0)\n"
          ]
        }
      ]
    },
    {
      "cell_type": "code",
      "source": [
        "import numpy as np\n",
        "import time\n",
        "from sklearn.neighbors import NearestNeighbors\n",
        "from annoy import AnnoyIndex\n",
        "import hnswlib\n",
        "import faiss\n",
        "from sklearn.preprocessing import StandardScaler"
      ],
      "metadata": {
        "id": "5cnbwhDKg6xH"
      },
      "id": "5cnbwhDKg6xH",
      "execution_count": 11,
      "outputs": []
    },
    {
      "cell_type": "code",
      "source": [
        "# -------------------------------\n",
        "# Contoh dataset kecil untuk testing\n",
        "# -------------------------------\n",
        "np.random.seed(42)\n",
        "n_samples = 10000   # jumlah database vector\n",
        "d = 128             # dimensi\n",
        "X = np.random.random((n_samples, d)).astype('float32')\n",
        "\n",
        "# Standarisasi fitur\n",
        "scaler = StandardScaler()\n",
        "X_scaled = scaler.fit_transform(X)\n",
        "\n",
        "k = 10  # jumlah nearest neighbors"
      ],
      "metadata": {
        "id": "M2rMHiIlg84B"
      },
      "id": "M2rMHiIlg84B",
      "execution_count": 12,
      "outputs": []
    },
    {
      "cell_type": "code",
      "source": [
        "# -------------------------------\n",
        "# Exact NN (brute-force)\n",
        "# -------------------------------\n",
        "start = time.time()\n",
        "nn = NearestNeighbors(n_neighbors=k, algorithm='brute', metric='euclidean')\n",
        "nn.fit(X_scaled)\n",
        "dist_exact, idx_exact = nn.kneighbors(X_scaled)\n",
        "time_exact = time.time() - start\n",
        "print(f\"Exact NN done in {time_exact:.3f} s\")"
      ],
      "metadata": {
        "id": "tSidP4f0g_KE",
        "outputId": "efdf8182-0dac-481f-863e-75d8596a5101",
        "colab": {
          "base_uri": "https://localhost:8080/"
        }
      },
      "id": "tSidP4f0g_KE",
      "execution_count": 13,
      "outputs": [
        {
          "output_type": "stream",
          "name": "stdout",
          "text": [
            "Exact NN done in 2.044 s\n"
          ]
        }
      ]
    },
    {
      "cell_type": "code",
      "source": [
        "# -------------------------------\n",
        "# Annoy\n",
        "# -------------------------------\n",
        "start = time.time()\n",
        "f = X_scaled.shape[1]\n",
        "index_annoy = AnnoyIndex(f, 'euclidean')\n",
        "for i, v in enumerate(X_scaled):\n",
        "    index_annoy.add_item(i, v)\n",
        "index_annoy.build(10)\n",
        "idx_annoy = [index_annoy.get_nns_by_vector(v, k) for v in X_scaled]\n",
        "time_annoy = time.time() - start\n",
        "print(f\"Annoy done in {time_annoy:.3f} s\")"
      ],
      "metadata": {
        "id": "a76m9ljYhBCQ",
        "outputId": "a9cec107-f715-49bc-cf6f-0832877585d7",
        "colab": {
          "base_uri": "https://localhost:8080/"
        }
      },
      "id": "a76m9ljYhBCQ",
      "execution_count": 14,
      "outputs": [
        {
          "output_type": "stream",
          "name": "stdout",
          "text": [
            "Annoy done in 0.883 s\n"
          ]
        }
      ]
    },
    {
      "cell_type": "code",
      "source": [
        "# -------------------------------\n",
        "# HNSW\n",
        "# -------------------------------\n",
        "start = time.time()\n",
        "p_hnsw = hnswlib.Index(space='l2', dim=d)\n",
        "p_hnsw.init_index(max_elements=n_samples, ef_construction=200, M=16)\n",
        "p_hnsw.add_items(X_scaled)\n",
        "p_hnsw.set_ef(200)\n",
        "idx_hnsw, _ = p_hnsw.knn_query(X_scaled, k=k)\n",
        "time_hnsw = time.time() - start\n",
        "print(f\"HNSW done in {time_hnsw:.3f} s\")"
      ],
      "metadata": {
        "id": "F8DMmHaQhCW_",
        "outputId": "f82de490-b054-4a94-af64-8c5880e87536",
        "colab": {
          "base_uri": "https://localhost:8080/"
        }
      },
      "id": "F8DMmHaQhCW_",
      "execution_count": 15,
      "outputs": [
        {
          "output_type": "stream",
          "name": "stdout",
          "text": [
            "HNSW done in 13.799 s\n"
          ]
        }
      ]
    },
    {
      "cell_type": "code",
      "source": [
        "# -------------------------------\n",
        "# FAISS IVF\n",
        "# -------------------------------\n",
        "start = time.time()\n",
        "quantizer = faiss.IndexFlatL2(d)\n",
        "index_faiss = faiss.IndexIVFFlat(quantizer, d, 100, faiss.METRIC_L2)\n",
        "index_faiss.train(X_scaled)\n",
        "index_faiss.add(X_scaled)\n",
        "index_faiss.nprobe = 10\n",
        "_, idx_faiss = index_faiss.search(X_scaled, k)\n",
        "time_faiss = time.time() - start\n",
        "print(f\"FAISS IVF done in {time_faiss:.3f} s\")"
      ],
      "metadata": {
        "id": "SD2IPkD7hEJN",
        "outputId": "8e81a601-ecb6-4fae-cf00-ce64b0ef19f0",
        "colab": {
          "base_uri": "https://localhost:8080/"
        }
      },
      "id": "SD2IPkD7hEJN",
      "execution_count": 16,
      "outputs": [
        {
          "output_type": "stream",
          "name": "stdout",
          "text": [
            "FAISS IVF done in 0.992 s\n"
          ]
        }
      ]
    },
    {
      "cell_type": "code",
      "execution_count": 17,
      "id": "f5ba062d",
      "metadata": {
        "id": "f5ba062d",
        "outputId": "87aa2455-56f9-4b5a-fcf2-1b7d08e4dcca",
        "colab": {
          "base_uri": "https://localhost:8080/"
        }
      },
      "outputs": [
        {
          "output_type": "stream",
          "name": "stdout",
          "text": [
            "\n",
            "=== Ringkasan Waktu (detik) ===\n",
            "Exact NN : 2.044\n",
            "Annoy    : 0.883\n",
            "HNSW     : 13.799\n",
            "FAISS    : 0.992\n"
          ]
        }
      ],
      "source": [
        "# -------------------------------\n",
        "# Tampilkan ringkasan waktu\n",
        "# -------------------------------\n",
        "print(\"\\n=== Ringkasan Waktu (detik) ===\")\n",
        "print(f\"Exact NN : {time_exact:.3f}\")\n",
        "print(f\"Annoy    : {time_annoy:.3f}\")\n",
        "print(f\"HNSW     : {time_hnsw:.3f}\")\n",
        "print(f\"FAISS    : {time_faiss:.3f}\")\n"
      ]
    }
  ],
  "metadata": {
    "language_info": {
      "name": "python"
    },
    "colab": {
      "provenance": [],
      "include_colab_link": true
    },
    "kernelspec": {
      "name": "python3",
      "display_name": "Python 3"
    }
  },
  "nbformat": 4,
  "nbformat_minor": 5
}