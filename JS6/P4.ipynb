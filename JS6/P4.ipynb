{
  "cells": [
    {
      "cell_type": "markdown",
      "metadata": {
        "id": "view-in-github",
        "colab_type": "text"
      },
      "source": [
        "<a href=\"https://colab.research.google.com/github/a6iyyu/MachineLearning_3F_23/blob/main/JS6/P4.ipynb\" target=\"_parent\"><img src=\"https://colab.research.google.com/assets/colab-badge.svg\" alt=\"Open In Colab\"/></a>"
      ]
    },
    {
      "cell_type": "markdown",
      "source": [
        "# **Praktikum 4**\n",
        "\n",
        "Percobaan kali ini kita akan melihat perbedaan ketiga model yang telah kita bahas dan bandingkan hasilnya."
      ],
      "metadata": {
        "id": "CBEQy8mVFwCn"
      },
      "id": "CBEQy8mVFwCn"
    },
    {
      "cell_type": "code",
      "source": [
        "!pip install annoy faiss-cpu hnswlib"
      ],
      "metadata": {
        "id": "1p7O0kVCGBX0",
        "outputId": "868774cd-5d72-4546-a5f3-112617288a00",
        "colab": {
          "base_uri": "https://localhost:8080/"
        }
      },
      "id": "1p7O0kVCGBX0",
      "execution_count": 17,
      "outputs": [
        {
          "output_type": "stream",
          "name": "stdout",
          "text": [
            "Requirement already satisfied: annoy in /usr/local/lib/python3.12/dist-packages (1.17.3)\n",
            "Requirement already satisfied: faiss-cpu in /usr/local/lib/python3.12/dist-packages (1.12.0)\n",
            "Requirement already satisfied: hnswlib in /usr/local/lib/python3.12/dist-packages (0.8.0)\n",
            "Requirement already satisfied: numpy<3.0,>=1.25.0 in /usr/local/lib/python3.12/dist-packages (from faiss-cpu) (2.0.2)\n",
            "Requirement already satisfied: packaging in /usr/local/lib/python3.12/dist-packages (from faiss-cpu) (25.0)\n"
          ]
        }
      ]
    },
    {
      "cell_type": "code",
      "source": [
        "# Import setelah instalasi selesai\n",
        "import numpy as np\n",
        "import pandas as pd\n",
        "import time\n",
        "from annoy import AnnoyIndex\n",
        "import faiss\n",
        "import hnswlib"
      ],
      "metadata": {
        "id": "mmDEcC6zIOVA"
      },
      "id": "mmDEcC6zIOVA",
      "execution_count": 18,
      "outputs": []
    },
    {
      "cell_type": "code",
      "source": [
        "# ===============================\n",
        "# 1. Buat dataset 1 juta data 5D\n",
        "# ===============================\n",
        "n_data = 1_000_000\n",
        "dim = 5\n",
        "print(f\"Membuat dataset dengan {n_data} titik data berdimensi {dim}...\\n\")\n",
        "X = np.random.random((n_data, dim)).astype(np.float32)\n",
        "\n",
        "# Query point\n",
        "query = np.random.random((1, dim)).astype(np.float32)\n",
        "k = 10"
      ],
      "metadata": {
        "id": "gZL734O7IVW3",
        "outputId": "1836d82f-e10a-436c-c8b9-317d93be364f",
        "colab": {
          "base_uri": "https://localhost:8080/"
        }
      },
      "id": "gZL734O7IVW3",
      "execution_count": 19,
      "outputs": [
        {
          "output_type": "stream",
          "name": "stdout",
          "text": [
            "Membuat dataset dengan 1000000 titik data berdimensi 5...\n",
            "\n"
          ]
        }
      ]
    },
    {
      "cell_type": "code",
      "source": [
        "# ===============================\n",
        "# 2. Annoy\n",
        "# ===============================\n",
        "print(\"=== Annoy ===\")\n",
        "ann_index = AnnoyIndex(dim, 'euclidean')\n",
        "\n",
        "start = time.time()\n",
        "for i in range(n_data):\n",
        "    ann_index.add_item(i, X[i])\n",
        "ann_index.build(10)  # 10 trees\n",
        "build_time = time.time() - start\n",
        "\n",
        "start = time.time()\n",
        "neighbors = ann_index.get_nns_by_vector(query[0], k, include_distances=True)\n",
        "query_time = time.time() - start\n",
        "\n",
        "print(f\"Build time: {build_time:.4f} detik\")\n",
        "print(f\"Query time: {query_time*1000:.4f} ms\")\n",
        "print(\"Neighbors:\", neighbors[0][:5], \"...\")"
      ],
      "metadata": {
        "id": "5fzvTvAvIXWt",
        "outputId": "05af3796-9927-4e51-e96b-f628adb41626",
        "colab": {
          "base_uri": "https://localhost:8080/"
        }
      },
      "id": "5fzvTvAvIXWt",
      "execution_count": 20,
      "outputs": [
        {
          "output_type": "stream",
          "name": "stdout",
          "text": [
            "=== Annoy ===\n",
            "Build time: 21.3802 detik\n",
            "Query time: 0.3221 ms\n",
            "Neighbors: [191144, 640339, 985012, 807627, 592975] ...\n"
          ]
        }
      ]
    },
    {
      "cell_type": "code",
      "source": [
        "# ===============================\n",
        "# 3. FAISS (IndexFlatL2 - Brute Force)\n",
        "# ===============================\n",
        "print(\"\\n=== FAISS (IndexFlatL2) ===\")\n",
        "faiss_index = faiss.IndexFlatL2(dim)\n",
        "\n",
        "start = time.time()\n",
        "faiss_index.add(X)\n",
        "build_time = time.time() - start\n",
        "\n",
        "start = time.time()\n",
        "distances, indices = faiss_index.search(query, k)\n",
        "query_time = time.time() - start\n",
        "\n",
        "print(f\"Build time: {build_time:.4f} detik\")\n",
        "print(f\"Query time: {query_time*1000:.4f} ms\")\n",
        "print(\"Neighbors:\", indices[0][:5], \"...\")"
      ],
      "metadata": {
        "id": "i1JyMDB_IZgN",
        "outputId": "67a743d9-4737-4c07-9213-aacd4f32e149",
        "colab": {
          "base_uri": "https://localhost:8080/"
        }
      },
      "id": "i1JyMDB_IZgN",
      "execution_count": 21,
      "outputs": [
        {
          "output_type": "stream",
          "name": "stdout",
          "text": [
            "\n",
            "=== FAISS (IndexFlatL2) ===\n",
            "Build time: 0.0164 detik\n",
            "Query time: 14.8003 ms\n",
            "Neighbors: [191144 640339 169804 985012 807627] ...\n"
          ]
        }
      ]
    },
    {
      "cell_type": "code",
      "execution_count": 22,
      "id": "47f7d808",
      "metadata": {
        "id": "47f7d808",
        "outputId": "89680d9c-f5c3-448e-eb93-9f189b813dbc",
        "colab": {
          "base_uri": "https://localhost:8080/"
        }
      },
      "outputs": [
        {
          "output_type": "stream",
          "name": "stdout",
          "text": [
            "\n",
            "=== HNSW (hnswlib) ===\n",
            "Build time: 197.0543 detik\n",
            "Query time: 0.2759 ms\n",
            "Neighbors: [191144 640339 169804 985012 807627] ...\n"
          ]
        }
      ],
      "source": [
        "# ===============================\n",
        "# 4. HNSW (hnswlib)\n",
        "# ===============================\n",
        "print(\"\\n=== HNSW (hnswlib) ===\")\n",
        "hnsw_index = hnswlib.Index(space='l2', dim=dim)\n",
        "\n",
        "start = time.time()\n",
        "hnsw_index.init_index(max_elements=n_data, ef_construction=200, M=16)\n",
        "hnsw_index.add_items(X)\n",
        "build_time = time.time() - start\n",
        "\n",
        "hnsw_index.set_ef(50)\n",
        "\n",
        "start = time.time()\n",
        "labels, distances = hnsw_index.knn_query(query, k=k)\n",
        "query_time = time.time() - start\n",
        "\n",
        "print(f\"Build time: {build_time:.4f} detik\")\n",
        "print(f\"Query time: {query_time*1000:.4f} ms\")\n",
        "print(\"Neighbors:\", labels[0][:5], \"...\")"
      ]
    },
    {
      "cell_type": "markdown",
      "source": [
        "Lakukan percobaan pada metric distance yang berbeda. catat hasilnya pada tabel yang anda buat sendiri seperti pada praktikum 1."
      ],
      "metadata": {
        "id": "LiXzdrwwJDIP"
      },
      "id": "LiXzdrwwJDIP"
    },
    {
      "cell_type": "code",
      "source": [
        "def run_experiment(metric_type):\n",
        "    \"\"\"\n",
        "    Fungsi untuk menjalankan eksperimen komparasi untuk metrik jarak tertentu.\n",
        "    \"\"\"\n",
        "    # ===============================\n",
        "    # 1. Konfigurasi & Data\n",
        "    # ===============================\n",
        "    n_data = 1_000_000\n",
        "    dim = 5\n",
        "    k = 10\n",
        "\n",
        "    print(f\"--- MEMULAI EKSPERIMEN: METRIK {metric_type.upper()} ---\")\n",
        "    print(f\"Membuat dataset dengan {n_data} data, {dim} dimensi...\")\n",
        "    X = np.random.random((n_data, dim)).astype(np.float32)\n",
        "    query = np.random.random((1, dim)).astype(np.float32)\n",
        "\n",
        "    # Normalisasi data untuk metrik Inner Product (agar setara Cosine Similarity)\n",
        "    if metric_type == 'ip':\n",
        "        faiss.normalize_L2(X)\n",
        "        faiss.normalize_L2(query)\n",
        "        annoy_metric = 'angular' # Annoy menggunakan 'angular' untuk cosine\n",
        "    else:\n",
        "        annoy_metric = 'euclidean'\n",
        "\n",
        "    results = []\n",
        "\n",
        "    # ===============================\n",
        "    # 2. FAISS (Ground Truth - Exact Search)\n",
        "    # ===============================\n",
        "    print(\"Menjalankan FAISS (Exact)...\")\n",
        "    if metric_type == 'ip':\n",
        "        index_exact = faiss.IndexFlatIP(dim)\n",
        "    else:\n",
        "        index_exact = faiss.IndexFlatL2(dim)\n",
        "\n",
        "    start = time.time()\n",
        "    index_exact.add(X)\n",
        "    build_time = time.time() - start\n",
        "\n",
        "    start = time.time()\n",
        "    distances_exact, indices_exact = index_exact.search(query, k)\n",
        "    query_time = time.time() - start\n",
        "\n",
        "    ground_truth = set(indices_exact[0])\n",
        "    results.append({\n",
        "        \"Library\": \"FAISS (Exact)\", \"Metrik\": metric_type.upper(),\n",
        "        \"Waktu Build (s)\": build_time, \"Waktu Query (ms)\": query_time * 1000,\n",
        "        \"Recall@10\": 1.0 # Akurasi 100% karena ini ground truth\n",
        "    })\n",
        "\n",
        "    # ===============================\n",
        "    # 3. Annoy\n",
        "    # ===============================\n",
        "    print(\"Menjalankan Annoy...\")\n",
        "    ann_index = AnnoyIndex(dim, annoy_metric)\n",
        "    start = time.time()\n",
        "    for i in range(n_data):\n",
        "        ann_index.add_item(i, X[i])\n",
        "    ann_index.build(10) # 10 trees\n",
        "    build_time = time.time() - start\n",
        "\n",
        "    start = time.time()\n",
        "    indices_ann, _ = ann_index.get_nns_by_vector(query[0], k, include_distances=True)\n",
        "    query_time = time.time() - start\n",
        "    recall_ann = len(ground_truth.intersection(set(indices_ann))) / k\n",
        "    results.append({\n",
        "        \"Library\": \"Annoy\", \"Metrik\": metric_type.upper(),\n",
        "        \"Waktu Build (s)\": build_time, \"Waktu Query (ms)\": query_time * 1000,\n",
        "        \"Recall@10\": recall_ann\n",
        "    })\n",
        "\n",
        "    # ===============================\n",
        "    # 4. HNSW (hnswlib)\n",
        "    # ===============================\n",
        "    print(\"Menjalankan HNSW...\")\n",
        "    hnsw_index = hnswlib.Index(space=metric_type, dim=dim)\n",
        "    start = time.time()\n",
        "    hnsw_index.init_index(max_elements=n_data, ef_construction=200, M=16)\n",
        "    hnsw_index.add_items(X)\n",
        "    build_time = time.time() - start\n",
        "\n",
        "    hnsw_index.set_ef(50)\n",
        "    start = time.time()\n",
        "    indices_hnsw, _ = hnsw_index.knn_query(query, k=k)\n",
        "    query_time = time.time() - start\n",
        "    # FIX: Ambil baris pertama dari hasil sebelum mengubahnya menjadi set\n",
        "    recall_hnsw = len(ground_truth.intersection(set(indices_hnsw[0]))) / k\n",
        "    results.append({\n",
        "        \"Library\": \"HNSW\", \"Metrik\": metric_type.upper(),\n",
        "        \"Waktu Build (s)\": build_time, \"Waktu Query (ms)\": query_time * 1000,\n",
        "        \"Recall@10\": recall_hnsw\n",
        "    })\n",
        "\n",
        "    print(f\"--- EKSPERIMEN {metric_type.upper()} SELESAI ---\\n\")\n",
        "    return results"
      ],
      "metadata": {
        "id": "e2V3f_dFJF5u"
      },
      "id": "e2V3f_dFJF5u",
      "execution_count": 23,
      "outputs": []
    },
    {
      "cell_type": "code",
      "source": [
        "# Jalankan eksperimen untuk kedua metrik\n",
        "all_results = []\n",
        "all_results.extend(run_experiment('l2'))\n",
        "all_results.extend(run_experiment('ip'))\n",
        "\n",
        "# Tampilkan hasil dalam tabel yang rapi\n",
        "df = pd.DataFrame(all_results)\n",
        "pd.options.display.float_format = '{:,.4f}'.format\n",
        "print(\"--- HASIL AKHIR PERBANDINGAN ---\")\n",
        "print(df.to_string())"
      ],
      "metadata": {
        "id": "E3_cOyhJJKSd",
        "outputId": "b9eb6504-4baf-4e3d-a0a8-8ca5736bc341",
        "colab": {
          "base_uri": "https://localhost:8080/"
        }
      },
      "id": "E3_cOyhJJKSd",
      "execution_count": 24,
      "outputs": [
        {
          "output_type": "stream",
          "name": "stdout",
          "text": [
            "--- MEMULAI EKSPERIMEN: METRIK L2 ---\n",
            "Membuat dataset dengan 1000000 data, 5 dimensi...\n",
            "Menjalankan FAISS (Exact)...\n",
            "Menjalankan Annoy...\n",
            "Menjalankan HNSW...\n",
            "--- EKSPERIMEN L2 SELESAI ---\n",
            "\n",
            "--- MEMULAI EKSPERIMEN: METRIK IP ---\n",
            "Membuat dataset dengan 1000000 data, 5 dimensi...\n",
            "Menjalankan FAISS (Exact)...\n",
            "Menjalankan Annoy...\n",
            "Menjalankan HNSW...\n",
            "--- EKSPERIMEN IP SELESAI ---\n",
            "\n",
            "--- HASIL AKHIR PERBANDINGAN ---\n",
            "         Library Metrik  Waktu Build (s)  Waktu Query (ms)  Recall@10\n",
            "0  FAISS (Exact)     L2           0.0176            6.6075     1.0000\n",
            "1          Annoy     L2          22.6033            0.1636     1.0000\n",
            "2           HNSW     L2         215.6296            0.1335     1.0000\n",
            "3  FAISS (Exact)     IP           0.0176            7.2770     1.0000\n",
            "4          Annoy     IP          37.0943            0.1454     1.0000\n",
            "5           HNSW     IP         209.8552            0.1717     1.0000\n"
          ]
        }
      ]
    }
  ],
  "metadata": {
    "language_info": {
      "name": "python"
    },
    "colab": {
      "provenance": [],
      "include_colab_link": true
    },
    "kernelspec": {
      "name": "python3",
      "display_name": "Python 3"
    }
  },
  "nbformat": 4,
  "nbformat_minor": 5
}