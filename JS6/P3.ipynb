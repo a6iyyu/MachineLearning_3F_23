{
  "cells": [
    {
      "cell_type": "markdown",
      "metadata": {
        "id": "view-in-github",
        "colab_type": "text"
      },
      "source": [
        "<a href=\"https://colab.research.google.com/github/a6iyyu/MachineLearning_3F_23/blob/main/JS6/P3.ipynb\" target=\"_parent\"><img src=\"https://colab.research.google.com/assets/colab-badge.svg\" alt=\"Open In Colab\"/></a>"
      ]
    },
    {
      "cell_type": "markdown",
      "source": [
        "# **Praktikum 3**\n",
        "\n",
        "Instal `hnswlib` terlebih dahulu."
      ],
      "metadata": {
        "id": "Kw6Bc_jhB2Z8"
      },
      "id": "Kw6Bc_jhB2Z8"
    },
    {
      "cell_type": "code",
      "execution_count": 4,
      "id": "fe03f35c",
      "metadata": {
        "id": "fe03f35c",
        "outputId": "46675dfd-5f30-40c7-9b0d-2ba2ae25b69b",
        "colab": {
          "base_uri": "https://localhost:8080/"
        }
      },
      "outputs": [
        {
          "output_type": "stream",
          "name": "stdout",
          "text": [
            "Requirement already satisfied: hnswlib in /usr/local/lib/python3.12/dist-packages (0.8.0)\n",
            "Requirement already satisfied: numpy in /usr/local/lib/python3.12/dist-packages (from hnswlib) (2.0.2)\n"
          ]
        }
      ],
      "source": [
        "!pip install hnswlib"
      ]
    },
    {
      "cell_type": "markdown",
      "source": [
        "Percobaan berikut akan membandingkan exact NN dengan HNSW pada 1000 data 2D."
      ],
      "metadata": {
        "id": "COao--RnB6cv"
      },
      "id": "COao--RnB6cv"
    },
    {
      "cell_type": "code",
      "source": [
        "import hnswlib\n",
        "import numpy as np\n",
        "import time\n",
        "from sklearn.neighbors import NearestNeighbors\n",
        "\n",
        "# ===========================\n",
        "# 1. Buat data 2D acak\n",
        "# ===========================\n",
        "num_elements = 1000\n",
        "dim = 2\n",
        "data = np.random.random((num_elements, dim)).astype(np.float32)\n",
        "\n",
        "# Query point\n",
        "query = np.array([[0.5, 0.5]], dtype=np.float32)\n",
        "k = 5  # cari 5 tetangga terdekat\n",
        "\n",
        "# ===========================\n",
        "# 2. Exact NN (Brute Force)\n",
        "# ===========================\n",
        "nn = NearestNeighbors(n_neighbors=k, algorithm='brute', metric='euclidean')\n",
        "nn.fit(data)\n",
        "\n",
        "start = time.time()\n",
        "distances, indices = nn.kneighbors(query)\n",
        "end = time.time()\n",
        "\n",
        "print(\"=== Exact NN ===\")\n",
        "print(\"Indices:\", indices)\n",
        "print(\"Distances:\", distances)\n",
        "print(\"Waktu:\", end - start, \"detik\")\n",
        "\n",
        "# ===========================\n",
        "# 3. HNSW\n",
        "# ===========================\n",
        "# Inisialisasi index HNSW\n",
        "p = hnswlib.Index(space='l2', dim=dim)\n",
        "\n",
        "# Ukuran maksimum elemen yang bisa ditampung\n",
        "p.init_index(max_elements=num_elements, ef_construction=100, M=16)\n",
        "\n",
        "# Tambahkan data\n",
        "p.add_items(data)\n",
        "\n",
        "# Set parameter pencarian\n",
        "p.set_ef(50)   # tradeoff speed vs accuracy\n",
        "\n",
        "start = time.time()\n",
        "labels, distances = p.knn_query(query, k=k)\n",
        "end = time.time()\n",
        "\n",
        "print(\"\\n=== HNSW ===\")\n",
        "print(\"Indices:\", labels)\n",
        "print(\"Distances:\", distances)\n",
        "print(\"Waktu:\", end - start, \"detik\")"
      ],
      "metadata": {
        "id": "Zx1c9gmoB-OT",
        "outputId": "8b77adb4-fe77-4105-aa6c-e1a5e4764bca",
        "colab": {
          "base_uri": "https://localhost:8080/"
        }
      },
      "id": "Zx1c9gmoB-OT",
      "execution_count": 5,
      "outputs": [
        {
          "output_type": "stream",
          "name": "stdout",
          "text": [
            "=== Exact NN ===\n",
            "Indices: [[124 805  96 890 212]]\n",
            "Distances: [[0.03437702 0.03632919 0.03853166 0.04725471 0.05015854]]\n",
            "Waktu: 0.0016150474548339844 detik\n",
            "\n",
            "=== HNSW ===\n",
            "Indices: [[124 805  96 890 212]]\n",
            "Distances: [[0.00118178 0.00131981 0.00148469 0.00223301 0.00251588]]\n",
            "Waktu: 0.00021004676818847656 detik\n"
          ]
        }
      ]
    },
    {
      "cell_type": "markdown",
      "source": [
        "Lakukan percobaan pada metric distance yang berbeda, 1000 vs 1jt data, 2D vs 5D data. catat hasilnya pada tabel yang anda buat sendiri seperti pada praktikum 1."
      ],
      "metadata": {
        "id": "W8dgNFcTCr4_"
      },
      "id": "W8dgNFcTCr4_"
    },
    {
      "cell_type": "code",
      "source": [
        "def run_experiment(num_elements, dim, metric_type, k=10):\n",
        "    \"\"\"Fungsi untuk menjalankan satu skenario eksperimen.\"\"\"\n",
        "    print(f\"--- Menjalankan: {num_elements} data, {dim}D, Metrik {metric_type.upper()} ---\")\n",
        "\n",
        "    # 1. Buat data acak\n",
        "    data = np.random.random((num_elements, dim)).astype(np.float32)\n",
        "    query = np.random.random((1, dim)).astype(np.float32)\n",
        "\n",
        "    # Scikit-learn butuh mapping metrik\n",
        "    metric_map_sklearn = {'l2': 'euclidean', 'ip': 'cosine'}\n",
        "\n",
        "    if metric_type == 'ip':\n",
        "        # Normalisasi diperlukan agar Inner Product setara dengan Cosine Similarity\n",
        "        # Ini adalah praktik standar.\n",
        "        data_normalized = data / np.linalg.norm(data, axis=1, keepdims=True)\n",
        "        query_normalized = query / np.linalg.norm(query, axis=1, keepdims=True)\n",
        "    else:\n",
        "        data_normalized = data\n",
        "        query_normalized = query\n",
        "\n",
        "    # 2. Exact NN (Brute Force)\n",
        "    nn = NearestNeighbors(n_neighbors=k, algorithm='brute', metric=metric_map_sklearn[metric_type])\n",
        "    nn.fit(data_normalized)\n",
        "\n",
        "    start_time = time.time()\n",
        "    distances_exact, indices_exact = nn.kneighbors(query_normalized)\n",
        "    time_exact = time.time() - start_time\n",
        "\n",
        "    # 3. HNSW\n",
        "    # Inisialisasi index\n",
        "    p = hnswlib.Index(space=metric_type, dim=dim)\n",
        "\n",
        "    # Waktu Build Index\n",
        "    start_build = time.time()\n",
        "    p.init_index(max_elements=num_elements, ef_construction=200, M=16)\n",
        "    p.add_items(data)\n",
        "    time_build = time.time() - start_build\n",
        "\n",
        "    # Waktu Query\n",
        "    p.set_ef(50)  # Parameter pencarian, semakin tinggi semakin akurat tapi lambat\n",
        "    start_query = time.time()\n",
        "    indices_hnsw, distances_hnsw = p.knn_query(query, k=k)\n",
        "    time_hnsw = time.time() - start_query\n",
        "\n",
        "    # 4. Hitung metrik performa\n",
        "    exact_set = set(indices_exact[0])\n",
        "    hnsw_set = set(indices_hnsw[0])\n",
        "    recall = len(exact_set.intersection(hnsw_set)) / k\n",
        "    speedup = time_exact / time_hnsw if time_hnsw > 0 else float('inf')\n",
        "\n",
        "    return {\n",
        "        \"Jumlah Data\": num_elements,\n",
        "        \"Dimensi\": dim,\n",
        "        \"Metrik Jarak\": metric_type.upper(),\n",
        "        \"Waktu Build HNSW (s)\": time_build,\n",
        "        \"Waktu Exact (ms)\": time_exact * 1000,\n",
        "        \"Waktu HNSW (ms)\": time_hnsw * 1000,\n",
        "        \"Speedup\": speedup,\n",
        "        \"Recall@10\": recall\n",
        "    }"
      ],
      "metadata": {
        "id": "IA-9mMnGDG80"
      },
      "id": "IA-9mMnGDG80",
      "execution_count": 6,
      "outputs": []
    },
    {
      "cell_type": "code",
      "source": [
        "experiments = [\n",
        "    {'num_elements': 1000, 'dim': 2, 'metric_type': 'l2'},\n",
        "    {'num_elements': 1000, 'dim': 2, 'metric_type': 'ip'},\n",
        "    {'num_elements': 1000, 'dim': 5, 'metric_type': 'l2'},\n",
        "    {'num_elements': 1000, 'dim': 5, 'metric_type': 'ip'},\n",
        "    {'num_elements': 1_000_000, 'dim': 2, 'metric_type': 'l2'},\n",
        "    {'num_elements': 1_000_000, 'dim': 2, 'metric_type': 'ip'},\n",
        "    {'num_elements': 1_000_000, 'dim': 5, 'metric_type': 'l2'},\n",
        "    {'num_elements': 1_000_000, 'dim': 5, 'metric_type': 'ip'},\n",
        "]\n",
        "\n",
        "results = []\n",
        "for params in experiments:\n",
        "    results.append(run_experiment(**params))"
      ],
      "metadata": {
        "id": "QUVpvKynDKfh",
        "outputId": "a6a87b8a-4703-4375-dfe1-b7aea20921fa",
        "colab": {
          "base_uri": "https://localhost:8080/"
        }
      },
      "id": "QUVpvKynDKfh",
      "execution_count": 7,
      "outputs": [
        {
          "output_type": "stream",
          "name": "stdout",
          "text": [
            "--- Menjalankan: 1000 data, 2D, Metrik L2 ---\n",
            "--- Menjalankan: 1000 data, 2D, Metrik IP ---\n",
            "--- Menjalankan: 1000 data, 5D, Metrik L2 ---\n",
            "--- Menjalankan: 1000 data, 5D, Metrik IP ---\n",
            "--- Menjalankan: 1000000 data, 2D, Metrik L2 ---\n",
            "--- Menjalankan: 1000000 data, 2D, Metrik IP ---\n",
            "--- Menjalankan: 1000000 data, 5D, Metrik L2 ---\n",
            "--- Menjalankan: 1000000 data, 5D, Metrik IP ---\n"
          ]
        }
      ]
    },
    {
      "cell_type": "code",
      "source": [
        "# Tampilkan hasil dalam tabel yang rapi\n",
        "import pandas as pd\n",
        "df = pd.DataFrame(results)\n",
        "print(\"\\n--- 📊 HASIL EKSPERIMEN ---\")\n",
        "# Mengatur format tampilan float\n",
        "pd.options.display.float_format = '{:,.4f}'.format\n",
        "print(df.to_string())"
      ],
      "metadata": {
        "id": "nIhQaI3FDLN3",
        "outputId": "2e1c87e5-ac80-4708-fe9f-a552943b7bb7",
        "colab": {
          "base_uri": "https://localhost:8080/"
        }
      },
      "id": "nIhQaI3FDLN3",
      "execution_count": 8,
      "outputs": [
        {
          "output_type": "stream",
          "name": "stdout",
          "text": [
            "\n",
            "--- 📊 HASIL EKSPERIMEN ---\n",
            "   Jumlah Data  Dimensi Metrik Jarak  Waktu Build HNSW (s)  Waktu Exact (ms)  Waktu HNSW (ms)  Speedup  Recall@10\n",
            "0         1000        2           L2                0.0485            0.9229           0.0598  15.4223     1.0000\n",
            "1         1000        2           IP                0.0353           14.5750           0.0563 259.0339     0.0000\n",
            "2         1000        5           L2                0.0568            0.5891           0.0904   6.5198     1.0000\n",
            "3         1000        5           IP                0.0579            1.4615           0.0596  24.5200     0.0000\n",
            "4      1000000        2           L2              121.0759           47.3881           0.0877 540.1087     1.0000\n",
            "5      1000000        2           IP               76.6119           34.2424           0.0522 655.8128     0.0000\n",
            "6      1000000        5           L2              180.9975           35.5079           0.1228 289.1864     1.0000\n",
            "7      1000000        5           IP              127.0769           53.3648           0.4346 122.7800     0.0000\n"
          ]
        }
      ]
    }
  ],
  "metadata": {
    "language_info": {
      "name": "python"
    },
    "colab": {
      "provenance": [],
      "include_colab_link": true
    },
    "kernelspec": {
      "name": "python3",
      "display_name": "Python 3"
    }
  },
  "nbformat": 4,
  "nbformat_minor": 5
}