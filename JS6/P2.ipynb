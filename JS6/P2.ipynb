{
  "cells": [
    {
      "cell_type": "markdown",
      "metadata": {
        "id": "view-in-github",
        "colab_type": "text"
      },
      "source": [
        "<a href=\"https://colab.research.google.com/github/a6iyyu/MachineLearning_3F_23/blob/main/JS6/P2.ipynb\" target=\"_parent\"><img src=\"https://colab.research.google.com/assets/colab-badge.svg\" alt=\"Open In Colab\"/></a>"
      ]
    },
    {
      "cell_type": "markdown",
      "source": [
        "# **Praktikum 2**\n",
        "\n",
        "Pada percobaan kali ini kita akan membuat pencarian sederhana menggunakan FAISS. Install FAISS terlebih dahulu menggunakan FAISS-CPU, jika ingin menggunakan GPU, dapat lakukan instalasi FAISS-GPU."
      ],
      "metadata": {
        "id": "nLlANfC8_3Uw"
      },
      "id": "nLlANfC8_3Uw"
    },
    {
      "cell_type": "code",
      "source": [
        "import numpy as np\n",
        "import pandas as pd\n",
        "import faiss\n",
        "import time"
      ],
      "metadata": {
        "id": "OFZeoCziBMiY"
      },
      "id": "OFZeoCziBMiY",
      "execution_count": 10,
      "outputs": []
    },
    {
      "cell_type": "code",
      "source": [
        "def run_experiment(n_points, dim, metric_type, k=10):\n",
        "    \"\"\"Fungsi untuk menjalankan satu skenario eksperimen.\"\"\"\n",
        "    print(f\"--- Menjalankan Eksperimen: {n_points} data, {dim}D, Metrik {metric_type} ---\")\n",
        "\n",
        "    # 1. Buat dataset\n",
        "    X = np.random.rand(n_points, dim).astype('float32')\n",
        "    query = np.random.rand(1, dim).astype('float32')\n",
        "\n",
        "    if metric_type == 'IP':\n",
        "        # Untuk Inner Product, normalisasi vektor adalah praktik standar\n",
        "        # agar setara dengan cosine similarity.\n",
        "        faiss.normalize_L2(X)\n",
        "        faiss.normalize_L2(query)\n",
        "\n",
        "    # 2. Exact NN (Brute-force)\n",
        "    if metric_type == 'L2':\n",
        "        index_exact = faiss.IndexFlatL2(dim)\n",
        "    else: # IP\n",
        "        index_exact = faiss.IndexFlatIP(dim)\n",
        "\n",
        "    index_exact.add(X)\n",
        "\n",
        "    start_time = time.time()\n",
        "    D_exact, I_exact = index_exact.search(query, k)\n",
        "    time_exact = time.time() - start_time\n",
        "\n",
        "    # 3. Approximate NN (IVF+PQ)\n",
        "    # Tentukan parameter IVF+PQ. Untuk data besar, nlist harus lebih besar.\n",
        "    nlist = 100 if n_points > 10000 else 10 # Jumlah cluster\n",
        "    m = dim if dim <= 8 else 8 # Jumlah sub-kuantizer, tidak boleh lebih besar dari dim\n",
        "    bits = 8 # bit per sub-vektor\n",
        "\n",
        "    if metric_type == 'L2':\n",
        "        quantizer = faiss.IndexFlatL2(dim)\n",
        "        index_approx = faiss.IndexIVFPQ(quantizer, dim, nlist, m, bits)\n",
        "    else: # IP\n",
        "        quantizer = faiss.IndexFlatIP(dim)\n",
        "        index_approx = faiss.IndexIVFPQ(quantizer, dim, nlist, m, bits)\n",
        "\n",
        "    # Training & adding data\n",
        "    index_approx.train(X)\n",
        "    index_approx.add(X)\n",
        "\n",
        "    # Searching\n",
        "    index_approx.nprobe = 5 # Berapa banyak cluster terdekat yang akan dicari\n",
        "    start_time = time.time()\n",
        "    D_approx, I_approx = index_approx.search(query, k)\n",
        "    time_approx = time.time() - start_time\n",
        "\n",
        "    # 4. Hitung recall\n",
        "    exact_neighbors = set(I_exact[0])\n",
        "    approx_neighbors = set(I_approx[0])\n",
        "    recall = len(exact_neighbors.intersection(approx_neighbors)) / k\n",
        "\n",
        "    # 5. Hitung speedup\n",
        "    speedup = time_exact / time_approx if time_approx > 0 else float('inf')\n",
        "\n",
        "    return {\n",
        "        \"Jumlah Data\": n_points,\n",
        "        \"Dimensi\": dim,\n",
        "        \"Metrik Jarak\": metric_type,\n",
        "        \"Waktu Exact (ms)\": time_exact * 1000,\n",
        "        \"Waktu IVF+PQ (ms)\": time_approx * 1000,\n",
        "        \"Speedup\": speedup,\n",
        "        \"Recall@10\": recall\n",
        "    }"
      ],
      "metadata": {
        "id": "OIyDlZwQ_tsB"
      },
      "id": "OIyDlZwQ_tsB",
      "execution_count": 11,
      "outputs": []
    },
    {
      "cell_type": "code",
      "source": [
        "# Daftar skenario eksperimen\n",
        "experiments = [\n",
        "    {'n_points': 1000, 'dim': 2, 'metric_type': 'L2'},\n",
        "    {'n_points': 1000, 'dim': 2, 'metric_type': 'IP'},\n",
        "    {'n_points': 1000, 'dim': 5, 'metric_type': 'L2'},\n",
        "    {'n_points': 1000, 'dim': 5, 'metric_type': 'IP'},\n",
        "    {'n_points': 1_000_000, 'dim': 2, 'metric_type': 'L2'},\n",
        "    {'n_points': 1_000_000, 'dim': 2, 'metric_type': 'IP'},\n",
        "    {'n_points': 1_000_000, 'dim': 5, 'metric_type': 'L2'},\n",
        "    {'n_points': 1_000_000, 'dim': 5, 'metric_type': 'IP'},\n",
        "]\n",
        "\n",
        "results = []\n",
        "for params in experiments:\n",
        "    result = run_experiment(**params)\n",
        "    results.append(result)"
      ],
      "metadata": {
        "id": "EDvIIiCaBRiF",
        "outputId": "da6652ce-10a3-466e-e28b-fc4869f87084",
        "colab": {
          "base_uri": "https://localhost:8080/"
        }
      },
      "id": "EDvIIiCaBRiF",
      "execution_count": 12,
      "outputs": [
        {
          "output_type": "stream",
          "name": "stdout",
          "text": [
            "--- Menjalankan Eksperimen: 1000 data, 2D, Metrik L2 ---\n",
            "--- Menjalankan Eksperimen: 1000 data, 2D, Metrik IP ---\n",
            "--- Menjalankan Eksperimen: 1000 data, 5D, Metrik L2 ---\n",
            "--- Menjalankan Eksperimen: 1000 data, 5D, Metrik IP ---\n",
            "--- Menjalankan Eksperimen: 1000000 data, 2D, Metrik L2 ---\n",
            "--- Menjalankan Eksperimen: 1000000 data, 2D, Metrik IP ---\n",
            "--- Menjalankan Eksperimen: 1000000 data, 5D, Metrik L2 ---\n",
            "--- Menjalankan Eksperimen: 1000000 data, 5D, Metrik IP ---\n"
          ]
        }
      ]
    },
    {
      "cell_type": "markdown",
      "source": [
        "Lakukan percobaan pada metric distance yang berbeda, 1000 vs 1jt data, 2D vs 5D data. catat hasilnya pada tabel yang anda buat sendiri seperti pada praktikum 1."
      ],
      "metadata": {
        "id": "skw-d7L6Bf7W"
      },
      "id": "skw-d7L6Bf7W"
    },
    {
      "cell_type": "code",
      "source": [
        "# Tampilkan hasil dalam bentuk tabel\n",
        "df = pd.DataFrame(results)\n",
        "print(\"\\n--- HASIL EKSPERIMEN ---\")\n",
        "print(df.to_string())"
      ],
      "metadata": {
        "id": "p9iOGnKpBThP",
        "outputId": "83aa6c84-d157-40af-9541-fb7b3d8616c5",
        "colab": {
          "base_uri": "https://localhost:8080/"
        }
      },
      "id": "p9iOGnKpBThP",
      "execution_count": 13,
      "outputs": [
        {
          "output_type": "stream",
          "name": "stdout",
          "text": [
            "\n",
            "--- HASIL EKSPERIMEN ---\n",
            "   Jumlah Data  Dimensi Metrik Jarak  Waktu Exact (ms)  Waktu IVF+PQ (ms)    Speedup  Recall@10\n",
            "0         1000        2           L2          0.056744           0.085592   0.662953        1.0\n",
            "1         1000        2           IP          0.038385           0.069380   0.553265        0.9\n",
            "2         1000        5           L2          0.024796           0.132561   0.187050        1.0\n",
            "3         1000        5           IP          0.029325           0.109911   0.266811        1.0\n",
            "4      1000000        2           L2          5.857468           0.324011  18.077999        0.9\n",
            "5      1000000        2           IP          9.225130           0.307322  30.017843        0.1\n",
            "6      1000000        5           L2          6.485224           0.583410  11.116060        1.0\n",
            "7      1000000        5           IP         12.939692           0.540257  23.951015        1.0\n"
          ]
        }
      ]
    }
  ],
  "metadata": {
    "language_info": {
      "name": "python"
    },
    "colab": {
      "provenance": [],
      "include_colab_link": true
    },
    "kernelspec": {
      "name": "python3",
      "display_name": "Python 3"
    }
  },
  "nbformat": 4,
  "nbformat_minor": 5
}