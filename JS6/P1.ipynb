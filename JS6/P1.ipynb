{
 "cells": [
  {
   "cell_type": "markdown",
   "id": "f0321bc5",
   "metadata": {},
   "source": [
    "# **Praktikum 1**\n",
    "\n",
    "### **Percobaan 1**\n",
    "\n",
    "Pada percobaan 1 kali ini, kita akan mencoba membandingkan hasil dari exact NN dengan ANNOY. data yang kita buat adalah data random 2D, dengan 1000 _data point_, mencari 3 data terdekat dari _query point_, Metric Similarity menggunakan Euclidean, dengan 3 tree Annoy.\n",
    "\n",
    "Instalasi Annoy dulu untuk langkah awal."
   ]
  },
  {
   "cell_type": "code",
   "execution_count": null,
   "id": "826d0651",
   "metadata": {
    "vscode": {
     "languageId": "plaintext"
    }
   },
   "outputs": [],
   "source": [
    "!pip install annoy"
   ]
  },
  {
   "cell_type": "markdown",
   "id": "3bb94179",
   "metadata": {},
   "source": [
    "Berikutnya jalankan code berikut, baca dengan seksama codenya baris demi baris dan pahami. lakukan beberapa kali percobaan dan perhatikan juga hasilnya. catat hasilnya jika menggunakan jumlah tree yang berbeda."
   ]
  }
 ],
 "metadata": {
  "language_info": {
   "name": "python"
  }
 },
 "nbformat": 4,
 "nbformat_minor": 5
}
